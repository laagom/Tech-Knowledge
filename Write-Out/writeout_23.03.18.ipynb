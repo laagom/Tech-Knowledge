{
 "cells": [
  {
   "attachments": {},
   "cell_type": "markdown",
   "metadata": {},
   "source": [
    "### 거품정렬이란?\n",
    "배열의 제일 뒤에서 역순으로 앞으로 이동하며 큰 수부터 작은 수로 정렬하는 알고리즘을 거품정렬 알고리즘이라 한다.\n",
    "\n",
    "배열 내의 인접한 값들을 서로 비교하며 비교하여 큰 값을 뒤로 보내는 작업을 수행하고, 제일 큰 값을 뒤로 정렬하고 나면 탐색하는 범위가 하나 줄어들고 그 다음으로 큰 값을 제일 뒤에서 하나 앞으로 옮기는 작업을 연이어 수행해준다. \n",
    "\n",
    "### 특징\n",
    "1. 큰 값을 뒤에서 앞으로 쌓아가며 정렬하기 때문에 정렬 범위가 하나씩 줄어든다.\n",
    "2. 제일 작은 값을 앞에서 정렬하는 선택정렬과는 정렬 방향이 반대방향이다.\n",
    "3. 선택정렬과 비교하여 자리 변경이 더 많이 일어나며 필요없는 과정이 반복되기 때문에 최적화가 필요하다.\n"
   ]
  },
  {
   "cell_type": "code",
   "execution_count": 15,
   "metadata": {},
   "outputs": [
    {
     "name": "stdout",
     "output_type": "stream",
     "text": [
      "[1, 5, 6, 9, 2, 8, 3, 4, 0, 7]\n",
      "[0, 1, 2, 3, 4, 5, 6, 7, 8, 9]\n"
     ]
    }
   ],
   "source": [
    "import random\n",
    "\n",
    "# bubble sort\n",
    "def bubble_sort(array):\n",
    "    length = len(array)-1\n",
    "\n",
    "    for i in range(length, 0, -1):\n",
    "        # 자기 자신과 비교할 필요가 없기 때문에 0부터 시작\n",
    "        for j in range(1, i+1):\n",
    "            if array[j-1] > array[j]:\n",
    "                array[j-1], array[j] = array[j], array[j-1]\n",
    "\n",
    "    return array\n",
    "\n",
    "bubble = random.sample(range(0, 10), 10)\n",
    "print(bubble)\n",
    "print(bubble_sort(bubble))"
   ]
  },
  {
   "attachments": {},
   "cell_type": "markdown",
   "metadata": {},
   "source": [
    "### 복잡도\n",
    "1. 배열 안에서 값들의 위치를 변경하기 때문에 공간 복잡도는 O(1)을 가진다.\n",
    "2. 맨 앞에서 모든 인덱스에 접근하기 때문에 O(N)의 시간을 소모하며, 또 다른 루프에서 서로의 값들을 비교하기 때문에 O(N)의 시간이 더 보소되어 총 O(N^2)의 시간 복잡도를 가진다.\n",
    "3. 이미 완료된 배열인 경우에는 O(N)의 시간 복잡도를 가진다."
   ]
  },
  {
   "attachments": {},
   "cell_type": "markdown",
   "metadata": {},
   "source": [
    "### 최적화\n",
    "이전 loop에서 앞뒤 자리 변경이 한 번도 일어나지 않았다면 정렬되지 않은 값이 하나도 없었다고 할 수 있다. 따라서 이러한 경우 loop를 수행하지 않아도 된다.\n",
    "\n",
    "```text\n",
    "origin: [1, 2, 3, 5, 4]\n",
    "-----------------------\n",
    "    loop 1: [1, 2, 3, 4, 5] 변경 있음\n",
    "    loop 2: [1, 2, 3, 4, 5] 변경 없음\n",
    "-----------------------\n",
    "탐색을 멈춰도 무관\n",
    "```\n"
   ]
  },
  {
   "cell_type": "code",
   "execution_count": 19,
   "metadata": {},
   "outputs": [
    {
     "name": "stdout",
     "output_type": "stream",
     "text": [
      "[4, 7, 9, 5, 2, 6, 1, 0, 8, 3]\n",
      "[0, 1, 2, 3, 4, 5, 6, 7, 8, 9]\n"
     ]
    }
   ],
   "source": [
    "import random\n",
    "\n",
    "# bubble sort 최적화\n",
    "def bubble_sort(array):\n",
    "    length = len(array)-1\n",
    "\n",
    "    for i in range(length, 0, -1):\n",
    "        switch = False\n",
    "\n",
    "        for j in range(1, i+1):\n",
    "            if array[j-1] > array[j]:\n",
    "                array[j-1], array[j] = array[j], array[j-1]\n",
    "                switch = True\n",
    "        \n",
    "        # 만약 이전까지 loop를 돌며 한 번이라도 변경이 이뤄지지 않았다면 \n",
    "        # 더 이상 반복분을 돌 필요가 없음\n",
    "        if not switch:\n",
    "            break\n",
    "\n",
    "    return array\n",
    "\n",
    "bubble = random.sample(range(0, 10), 10)\n",
    "print(bubble)\n",
    "\n",
    "print(bubble_sort(bubble))\n",
    "\n"
   ]
  },
  {
   "attachments": {},
   "cell_type": "markdown",
   "metadata": {},
   "source": [
    "### 선택 정렬이란?\n",
    "정렬 알고리즘에서 가장 직관적이고 쉽게 구현이 가능한 정렬이다.\n",
    "\n",
    "거품 정렬과 많이 유사하며 정해진 위치에 탐색하며 얻을 조건에 만족하는 값을 해당 위치로 옮기며 앞에서부터 뒤로 순차적으로 정렬하는 알고리즘이다.\n",
    "\n",
    "거품 정렬과 동일하게 인접한 2개의 값을 비교하여 정해진 위치에 옮겨질 가장 작은 값을 찾고 1 loop에서 탐색이 완료 되었다면 1 loop 마지막에 해당 위치에 정해진 작은 값은 옮긴다.\n",
    "\n",
    "거품 정렬은 뒤에서 하나씩 탐색 범위가 줄었다면 선택 정렬은 앞에서 부터 탐색 범위가 순차적으로 줄어든다.\n",
    "\n",
    "### 특징\n",
    "1. 선택 정렬은 정렬된 값을 배열의 맨 앞 부터 하나씩 채워나가게 된다. 따라서 뒤에 있는 Index로 갈수록 비교 범위가 하나씩 줄어든다.\n",
    "2. 입력 배열이 정렬이 되어 있건 말건 이미 동일한 연산량을 가지고 있기 떄문에 시간복잡도는(O(N^2))를 가진다.\n",
    "\n",
    "\n",
    "### 복잡도\n",
    "1. 별도의 추가 공간을 사용하지 않기 때문에 O(1)의 공간 복잡도를 가진다.\n",
    "2. loop문을 통해 모든 인덱스에 접근해야하기 때문에 O(N)의 시간을 소요하며 거품정렬과 마찬가지로 다른 인덱스와 비교해야하기 때문에 O(N)의 시간이 더 소모되어 최종적으로 선택 정렬은 O(N^2)의 시간 복잡도를 가진다."
   ]
  },
  {
   "cell_type": "code",
   "execution_count": 26,
   "metadata": {},
   "outputs": [
    {
     "name": "stdout",
     "output_type": "stream",
     "text": [
      "[1, 0, 7, 3, 8, 6, 9, 4, 2, 5]\n",
      "[0, 1, 2, 3, 4, 5, 6, 7, 8, 9]\n"
     ]
    }
   ],
   "source": [
    "import random\n",
    "\n",
    "# 선택 정렬\n",
    "def select_sort(array):\n",
    "    length = len(array)-1\n",
    "\n",
    "    for i in range(length):\n",
    "        min_idx = i\n",
    "        for j in range(i+1, length+1):\n",
    "            if array[min_idx] > array[j]:\n",
    "                min_idx = j\n",
    "        array[min_idx], array[i] = array[i], array[min_idx]\n",
    "\n",
    "    return array\n",
    "\n",
    "select = random.sample(range(0, 10), 10)\n",
    "print(select)\n",
    "\n",
    "print(select_sort(select))"
   ]
  },
  {
   "attachments": {},
   "cell_type": "markdown",
   "metadata": {},
   "source": [
    "### 삽입정렬이란?\n",
    "선택, 거품 정렬과 동일한 시간복잡도 O(N^2)를 가지고 있다.\n",
    "\n",
    "최선의 경우에는 O(N)이라는 효율성을 가지기 때문에 선택, 거품정렬보다 더 효율적인 알고리즘이다.\n",
    "\n",
    "다른 정렬 알고리즘의 일부분으로 사용되기 때문에 좋은 정렬 알고리즘이다.\n",
    "\n",
    "### 특징\n",
    "1. 선택, 거품 정렬은 Loop가 진행될 수록 탐색 범위가 줄어드는 반면 삽입 정렬을 오히려 넓어 진다.\n",
    "\n",
    "## 복잡도\n",
    "1. 별도의 추가 공간을 사용하지 않기 때문에 O(1)의 공간 복잡도를 가진다.\n",
    "2. 전체를 loop개수인 O(N)시간복잡도를 가지며, 새롭게 추가된 값과 기존 값을 비교해야하기 때문에 다시 O(N)이 추가 되어 총 O(N^2)의 시간 복잡도를 가진다.\n",
    "3. 최적화를 진행할 경우 O(N)까지도 향상이 가능하다."
   ]
  },
  {
   "cell_type": "code",
   "execution_count": 36,
   "metadata": {},
   "outputs": [
    {
     "name": "stdout",
     "output_type": "stream",
     "text": [
      "[6, 2, 5, 3, 0, 7, 9, 8, 1, 4]\n",
      "[0, 1, 2, 3, 4, 5, 6, 7, 8, 9]\n"
     ]
    }
   ],
   "source": [
    "import random\n",
    "\n",
    "# 삽입정렬\n",
    "def insertion_sort(array):\n",
    "    length = len(array)\n",
    "\n",
    "    for end in range(length):\n",
    "        for i in range(end, 0, -1):\n",
    "            if array[i] < array[i-1]:\n",
    "                array[i-1], array[i] = array[i], array[i-1]\n",
    "\n",
    "    return array\n",
    "\n",
    "insertion = random.sample(range(0, 10), 10)\n",
    "print(insertion)\n",
    "\n",
    "print(insertion_sort(insertion))\n"
   ]
  },
  {
   "attachments": {},
   "cell_type": "markdown",
   "metadata": {},
   "source": [
    "### 최적화\n",
    "기존에 있던 값들은 이전 loop에서 이미 모두 정렬 되었다는 것을 감안하면 이후의 작업은 더 이상 진행할 필요가 없기 때문에 이를 활용하여 최적화가 가능하다."
   ]
  },
  {
   "cell_type": "code",
   "execution_count": 42,
   "metadata": {},
   "outputs": [
    {
     "name": "stdout",
     "output_type": "stream",
     "text": [
      "[5, 9, 6, 7, 0, 8, 1, 2, 3, 4]\n",
      "[0, 1, 2, 3, 4, 5, 6, 7, 8, 9]\n"
     ]
    }
   ],
   "source": [
    "import random\n",
    "\n",
    "# insertion sort 최적화\n",
    "def insertion_sort(array):\n",
    "    length = len(array)\n",
    "\n",
    "    for end in range(1, length):\n",
    "        i = end\n",
    "        while i > 0 and array[i-1] > array[i]:\n",
    "            array[i-1], array[i] = array[i], array[i-1]\n",
    "            i -= 1\n",
    "    return array\n",
    "\n",
    "insertion = random.sample(range(0, 10), 10)\n",
    "print(insertion)\n",
    "\n",
    "print(insertion_sort(insertion))"
   ]
  },
  {
   "attachments": {},
   "cell_type": "markdown",
   "metadata": {},
   "source": [
    "### 최적화2\n",
    "switch작업 없이 단순히 값들을 옮기는 것만으로 삽입 정렬을 구현할 수 있다. 앞의 값 정렬 범위에 추가시킨 값보다 큰 경우 값을 뒤로 밀다가 최초로 작은 값을 만나는 순간 그 뒤에 추가된 값을 꼽으면 된다."
   ]
  },
  {
   "cell_type": "code",
   "execution_count": 43,
   "metadata": {},
   "outputs": [
    {
     "name": "stdout",
     "output_type": "stream",
     "text": [
      "[7, 8, 6, 0, 9, 5, 1, 3, 2, 4]\n",
      "[0, 1, 2, 3, 4, 5, 6, 7, 8, 9]\n"
     ]
    }
   ],
   "source": [
    "import random\n",
    "\n",
    "def insertion_sort(array):\n",
    "    length = len(array)\n",
    "\n",
    "    for end in range(length):\n",
    "        to_insert = array[end]\n",
    "        i = end\n",
    "        while i > 0 and array[i-1] > to_insert:\n",
    "            array[i] = array[i-1]\n",
    "            i -= 1\n",
    "        array[i] = to_insert\n",
    "\n",
    "    return array\n",
    "\n",
    "insertion = random.sample(range(0, 10), 10)\n",
    "print(insertion)\n",
    "\n",
    "print(insertion_sort(insertion))"
   ]
  },
  {
   "attachments": {},
   "cell_type": "markdown",
   "metadata": {},
   "source": [
    "### 퀵 정렬이란?\n",
    "가장 유명한 알고리즘인 퀵정렬에 대해 복습하려고 한다.\n",
    "\n",
    "분할 정복기법과 재기 알고리즘을 통해 배열을 정렬하는 알고리즘이다.\n",
    "\n",
    "다른 원소와의 비교만으로 정렬을 수행하는 비교 정렬에 속하며, 피벗을 어떤식으로 잡느냐에 따라 효율이 달라지기 때문에 불안정 정렬에 속한다.\n",
    "\n",
    "### 특징\n",
    "1. 파이썬의 list.sort()함수나 자바의 Arrays.sort()처럼 기본적으로 제공되는 내장 정렬 함수는 대부분 퀵 정렬을 기본으로 한다.\n",
    "\n",
    "### 복잡도\n",
    "1. pivot 값을 기준으로 동일한 개수의 작은 값들과 큰 값들이 분할되어 나눠지면 O(nlog(n))의 시간 복잡도를 가진다.\n",
    "2. pivot 값을 기준으로 분할했을 때 값들이 한 편으로 크게 치우치게 되면, 퀵 정렬은 성능은 저하되게 되며, 최악의 경우 한 편으로만 모든 값이 몰리게 되어 O(n^2)시간복잡도를 보이게 된다."
   ]
  },
  {
   "cell_type": "code",
   "execution_count": 51,
   "metadata": {},
   "outputs": [
    {
     "name": "stdout",
     "output_type": "stream",
     "text": [
      "[3, 8, 0, 5, 7, 6, 4, 9, 1, 2]\n",
      "[0, 1, 2, 3, 4, 5, 6, 7, 8, 9]\n"
     ]
    }
   ],
   "source": [
    "import random\n",
    "\n",
    "def quick_sort(array):\n",
    "    if len(array) <= 1:\n",
    "        return array\n",
    "    pivot = array[len(array) // 2]\n",
    "    low_array, equal_array, high_array = [], [], []\n",
    "\n",
    "    for num in array:\n",
    "        if num > pivot:\n",
    "            high_array.append(num)\n",
    "        elif num < pivot:\n",
    "            low_array.append(num)\n",
    "        else:\n",
    "            equal_array.append(num)\n",
    "\n",
    "    return quick_sort(low_array) +equal_array + quick_sort(high_array)\n",
    "\n",
    "quick = random.sample(range(0, 10), 10)\n",
    "print(quick)\n",
    "\n",
    "print(quick_sort(quick))"
   ]
  },
  {
   "attachments": {},
   "cell_type": "markdown",
   "metadata": {},
   "source": [
    "### 최적화\n",
    "매번 재귀가 호출될 때마다 새로운 리스트를 생성하여 리턴하기 때문에 메모리 사용 측면에서 비효율적이다. 큰 사이즈의 입력 데이터를 다뤄야하는 상용코드에서는 치명적인 단점이기 때문에 in-place정렬을 선호한다."
   ]
  },
  {
   "cell_type": "code",
   "execution_count": 57,
   "metadata": {},
   "outputs": [
    {
     "name": "stdout",
     "output_type": "stream",
     "text": [
      "[2, 6, 7, 0, 8, 5, 9, 4, 1, 3]\n",
      "[0, 1, 2, 3, 4, 5, 6, 7, 8, 9]\n"
     ]
    }
   ],
   "source": [
    "import random\n",
    "\n",
    "def quick_sort(array):\n",
    "    def sort(low, high):\n",
    "        if low >= high:\n",
    "            return \n",
    "\n",
    "        mid = partition(low, high)\n",
    "        sort(low, mid-1)\n",
    "        sort(mid, high)\n",
    "\n",
    "    def partition(low, high):\n",
    "        pivot = array[(low+high) // 2]\n",
    "        while low <= high:\n",
    "            while array[low] < pivot:\n",
    "                low += 1\n",
    "            while array[high] > pivot:\n",
    "                high -= 1\n",
    "            if low <= high:\n",
    "                array[low], array[high] = array[high], array[low]\n",
    "                low, high = low +1, high -1\n",
    "        return low\n",
    "    \n",
    "    return sort(0, len(array)-1)\n",
    "\n",
    "\n",
    "quick = random.sample(range(0, 10), 10)\n",
    "print(quick)\n",
    "quick_sort(quick)\n",
    "print(quick)"
   ]
  },
  {
   "attachments": {},
   "cell_type": "markdown",
   "metadata": {},
   "source": [
    "### 병합정렬이란?\n",
    "퀵정렬과 동일하게 분할정복과 재귀 알고리즘으로 구현되는 알고리즘이다.\n",
    "\n",
    "퀴정렬과 마찬가지로 빠른 정렬로 분류 되어 많이 사용되고 pivot 값을 잘못 선정하면 효율이 떨어지는 불안정한 퀵정렬과 달리 병합정렬은 안정 정렬에 속한다.\n",
    "\n",
    "### 특징\n",
    "1. 분할 단계와 병합 단계로 나눌 수 있으며, 단순히 중간 인덱스를 찾아야하는 분할 비용보다 모든 값들을 비교해야하는 병합 비용이 더 크다.\n",
    "2. 8->4->2->1식으로 반복의 수가 절반으로 줄기 때문에 O(logN)시간이 필요하여, 각 패스에서 병합할때 모든 값들을 비교해야하므로 O(N)시간이 소모된다. 따라서 총 시간 복잡도는 O(NlogN)이다.\n",
    "3. 두 개의 배열을 병합 할 때 병합 결과를 담아 놓을 배열이 추가로 필요하다. 따라서 공간복잡도는 O(N)이다."
   ]
  },
  {
   "cell_type": "code",
   "execution_count": 61,
   "metadata": {},
   "outputs": [
    {
     "name": "stdout",
     "output_type": "stream",
     "text": [
      "[4, 9, 6, 7, 5, 2, 3, 8, 0, 1]\n",
      "[0, 1, 2, 3, 4, 5, 6, 7, 8, 9]\n"
     ]
    }
   ],
   "source": [
    "import random\n",
    "\n",
    "def merge_sort(array):\n",
    "    if len(array) < 2:\n",
    "        return array\n",
    "    \n",
    "    mid = len(array) // 2\n",
    "    low_array = merge_sort(array[:mid])\n",
    "    high_array = merge_sort(array[mid:])\n",
    "\n",
    "    merge_array = []\n",
    "\n",
    "    l = h = 0\n",
    "    while l < len(low_array) and h < len(high_array):\n",
    "        if low_array[l] < high_array[h]:\n",
    "            merge_array.append(low_array[l])\n",
    "            l += 1\n",
    "        else:\n",
    "            merge_array.append(high_array[h])\n",
    "            h += 1\n",
    "    merge_array += low_array[l:]\n",
    "    merge_array += high_array[h:]\n",
    "\n",
    "    return merge_array\n",
    "\n",
    "merge = random.sample(range(0, 10), 10)\n",
    "print(merge)\n",
    "\n",
    "print(merge_sort(merge))\n"
   ]
  },
  {
   "cell_type": "code",
   "execution_count": 64,
   "metadata": {},
   "outputs": [
    {
     "name": "stdout",
     "output_type": "stream",
     "text": [
      "[2, 6, 1, 4, 5, 7, 0, 9, 8, 3]\n",
      "[0, 1, 2, 3, 4, 5, 6, 7, 8, 9]\n"
     ]
    }
   ],
   "source": [
    "import random\n",
    "\n",
    "def merge_sort(array):\n",
    "    if len(array) < 2:\n",
    "        return array\n",
    "    merge_array = []\n",
    "\n",
    "    mid = len(array) // 2\n",
    "    low_array = merge_sort(array[:mid])\n",
    "    high_array = merge_sort(array[mid:])\n",
    "\n",
    "    l = h = 0\n",
    "    while l < len(low_array) and h < len(high_array):\n",
    "        if low_array[l] < high_array[h]:\n",
    "            merge_array.append(low_array[l])\n",
    "            l += 1\n",
    "        else:\n",
    "            merge_array.append(high_array[h])\n",
    "            h += 1\n",
    "\n",
    "    merge_array += low_array[l:]\n",
    "    merge_array += high_array[h:]\n",
    "    return merge_array\n",
    "\n",
    "merge = random.sample(range(0, 10), 10)\n",
    "print(merge)\n",
    "\n",
    "print(merge_sort(merge))"
   ]
  },
  {
   "cell_type": "code",
   "execution_count": 72,
   "metadata": {},
   "outputs": [
    {
     "name": "stdout",
     "output_type": "stream",
     "text": [
      "[0, 9, 8, 6, 2, 4, 3, 7, 5, 1]\n",
      "[0, 2, 3, 4, 5, 6, 7, 8, 9, 1]\n"
     ]
    }
   ],
   "source": [
    "import random\n",
    "\n",
    "def merge_sort(array):\n",
    "    def sort(low, high):\n",
    "        if high - low < 2:\n",
    "            return\n",
    "        \n",
    "        mid = (low+high) // 2\n",
    "        sort(low, mid)\n",
    "        sort(mid, high)\n",
    "        merge(low, mid, high)\n",
    "\n",
    "    def merge(low, mid, high):\n",
    "        temp = []\n",
    "        l, h = low, mid\n",
    "\n",
    "        while l < mid and h < high:\n",
    "            if array[l] < array[h]:\n",
    "                temp.append(array[l])\n",
    "                l += 1\n",
    "            else:\n",
    "                temp.append(array[h])\n",
    "                h += 1\n",
    "        \n",
    "        while l < mid:\n",
    "            temp.append(array[l])\n",
    "            l += 1\n",
    "        while h < high:\n",
    "            temp.append(array[h])\n",
    "            h += 1\n",
    "\n",
    "        for i in range(low, high):\n",
    "            array[i] = temp[i - low]\n",
    "    return sort(0, len(array)-1)\n",
    "\n",
    "\n",
    "\n",
    "merge = random.sample(range(0, 10), 10)\n",
    "print(merge)\n",
    "merge_sort(merge)\n",
    "\n",
    "print(merge)"
   ]
  }
 ],
 "metadata": {
  "kernelspec": {
   "display_name": "Python 3",
   "language": "python",
   "name": "python3"
  },
  "language_info": {
   "codemirror_mode": {
    "name": "ipython",
    "version": 3
   },
   "file_extension": ".py",
   "mimetype": "text/x-python",
   "name": "python",
   "nbconvert_exporter": "python",
   "pygments_lexer": "ipython3",
   "version": "3.11.0"
  },
  "orig_nbformat": 4,
  "vscode": {
   "interpreter": {
    "hash": "5c7b89af1651d0b8571dde13640ecdccf7d5a6204171d6ab33e7c296e100e08a"
   }
  }
 },
 "nbformat": 4,
 "nbformat_minor": 2
}
