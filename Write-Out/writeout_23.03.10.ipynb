{
 "cells": [
  {
   "attachments": {},
   "cell_type": "markdown",
   "metadata": {},
   "source": [
    "# 낙서장"
   ]
  },
  {
   "attachments": {},
   "cell_type": "markdown",
   "metadata": {},
   "source": [
    "### 거품 정렬이란?\n",
    "Bubble Sort란? 뒤에서 앞으로 제일 큰 값을 순차적으로 위치시키며 탐색 범위를 하나씩 줄여 나가며 전체를 정렬시키는 구조를 가진 정렬을 말한다.\n",
    "\n",
    "### 특징\n",
    "1. 정렬의 범위가 하나씩 줄어든다.\n",
    "2. 선택 정렬과 정렬 방향이 반대이다.\n",
    "3. 필요 없는 과정이 있어 최적화가 필요하다.\n",
    "\n",
    "### 복잡도\n",
    "1. 추가 공간을 사용하지 않기 때문에 공간 복잡도는 0(1)이다.\n",
    "2. 모든 인덱스에 접근하기 때문에 0(N)시간을 소모하며, 비교 및 자리교대를 위해 O(N)을 필요로 한다.\n",
    "3. 결과적으로 0(N^2)의 시간 복잡도를 가진다."
   ]
  },
  {
   "cell_type": "code",
   "execution_count": 4,
   "metadata": {},
   "outputs": [
    {
     "name": "stdout",
     "output_type": "stream",
     "text": [
      "[0, 1, 2, 3, 4, 5, 6, 7, 8, 9]\n"
     ]
    }
   ],
   "source": [
    "# 일반\n",
    "import random\n",
    "\n",
    "def bubble_sort(array):\n",
    "    length = len(array)-1\n",
    "\n",
    "    for i in range(length, 0, -1):\n",
    "        for j in range(1, i+1):\n",
    "            if array[j-1] > array[j]:\n",
    "                array[j-1], array[j] = array[j], array[j-1]\n",
    "    return array\n",
    "\n",
    "bubble = random.sample(range(0,10),10)\n",
    "print(bubble_sort(bubble))\n"
   ]
  },
  {
   "attachments": {},
   "cell_type": "markdown",
   "metadata": {},
   "source": [
    "### 최적화\n",
    "이전 loop에서 앞 뒤 자리 변경이 한 번도 일어나지 않았다면 정렬되는 값이 하나도 없기 때문에 이후 정렬을 수행하지 않아도 된다."
   ]
  },
  {
   "cell_type": "code",
   "execution_count": 5,
   "metadata": {},
   "outputs": [
    {
     "name": "stdout",
     "output_type": "stream",
     "text": [
      "[0, 1, 2, 3, 4, 5, 6, 7, 8, 9]\n"
     ]
    }
   ],
   "source": [
    "import random\n",
    "\n",
    "def bubble_sort(array):\n",
    "    length = len(array)-1\n",
    "\n",
    "    for i in range(length):\n",
    "        switch = False\n",
    "        for j in range(length-i):\n",
    "            if array[j] > array[j+1]:\n",
    "                array[j], array[j+1] = array[j+1], array[j]\n",
    "                switch = True\n",
    "        if not switch:\n",
    "            break\n",
    "    return array\n",
    "\n",
    "bubble = random.sample(range(0,10),10)\n",
    "print(bubble_sort(bubble))"
   ]
  },
  {
   "attachments": {},
   "cell_type": "markdown",
   "metadata": {},
   "source": [
    "### 선택 정렬이란?\n",
    "선택 정렬은 거품 정렬과 매우 유사하다. 순서가 정해지며 원소를 넣을 위치도 정해진다. 그 정해진 위치에 어떤 원소를 넣을지 탐색하며 정렬하는 것이 선택 정렬이다.\n",
    "\n",
    "거품 정렬은 앞에서 서로 인접한 두 개의 요소를 비교하여 가장 큰 값부터 뒤로 보냈다면 선택 정렬은 앞에서 부터 작은 값을 순차적으로 나열하는 방식의 알고리즘이다.\n",
    "\n",
    "### 특징\n",
    "1. 정렬할 값을 배열의 맨 앞부터 하나씩 채워나가기 때문에, 탐색 범위가 하나씩 줄어드는 구조를 가지고 있다.\n",
    "2. 시간복잡도가 비 효율적이다.\n",
    "\n",
    "### 복잡도\n",
    "1. 선택 정렬은 별도의 추가 공간을 사용하지 않고 주어진 배열이 차지하고 있는 공간 내에서 값들의 위치만 바꾸기 때문에 O(1)의 공간 복잡도를 가진다.\n",
    "2. 모든 인덱스에 접근하기 때문에 O(N)의 시간을 소모하며, 다른 인덱스와 비교하며 자리를 변경하기 때문에 O(N)의 시간을 필요로 한다.\n",
    "3. 결과적으로 버블정렬과 마찬가지로 O(N^2)의 시간복잡도를 가지며 비 효율적이다."
   ]
  },
  {
   "cell_type": "code",
   "execution_count": 14,
   "metadata": {},
   "outputs": [
    {
     "name": "stdout",
     "output_type": "stream",
     "text": [
      "[1, 6, 5, 0, 2, 9, 3, 4, 7, 8]\n",
      "[0, 1, 2, 3, 4, 5, 6, 7, 9, 8]\n"
     ]
    }
   ],
   "source": [
    "import random\n",
    "\n",
    "def selection_sort(array):\n",
    "    length = len(array)-1\n",
    "\n",
    "    for i in range(length):\n",
    "        min_idx = i\n",
    "        for j in range(i+1, length):\n",
    "            if array[min_idx] > array[j]:\n",
    "                min_idx = j\n",
    "        array[min_idx], array[i] = array[i], array[min_idx]\n",
    "    return array\n",
    "\n",
    "selection = random.sample(range(0, 10), 10)\n",
    "print(selection)\n",
    "print(selection_sort(selection))"
   ]
  },
  {
   "attachments": {},
   "cell_type": "markdown",
   "metadata": {},
   "source": [
    "### 삽입 정렬이란?\n",
    "선택, 버블 정렬과 더블어 O(N^2)의 시간복잡도를 가지지만 최선의 경우 O(N)의 시간 복잡도를 가질 수 있는 삽입 정렬을 알아보자\n",
    "\n",
    "삽입 정렬은 정렬 범위를 1칸씩 확장해나가며 새롭게 정렬 범위에 들어온 값을 기존 값들과 비교하여 알맞은 자리에 넣어주는 알고리즘이다.\n",
    "\n",
    "### 특징\n",
    "1. 선택, 거품 정렬은 반복될 수록 탐색 범위가 줄어드는 반면 삽입 정렬은 오히려 점위가 넓어진다.\n",
    "\n",
    "### 복잡도\n",
    "1. 삽입 정렬은 별도의 추가 공간을 사용하지 않고 주어진 배열이 차지하고 있는 공간 내에서 값들의 위치만 변경되기 때문에 O(1)의 공간 복잡도를 가진다.\n",
    "2. 기본적으로 O(N)의 시간을 소모하며 새롭게 추가된 원소와 기존의 값들을 비교하여 자리를 변경하기 때문에 O(N)의 시간이 필요하여 총 O(N^2)의 시간복잡도를 가진다.\n",
    "3. 최적화를 통해 O(N)까지도 시간 복잡도를 향상시킬 수 있다."
   ]
  },
  {
   "cell_type": "code",
   "execution_count": 24,
   "metadata": {},
   "outputs": [
    {
     "name": "stdout",
     "output_type": "stream",
     "text": [
      "[6, 2, 7, 3, 8, 1, 5, 0, 9, 4]\n",
      "[0, 1, 2, 3, 4, 5, 6, 7, 8, 9]\n"
     ]
    }
   ],
   "source": [
    "import random\n",
    "\n",
    "def insertion_sort(array):\n",
    "    for end in range(len(array)):\n",
    "        for i in range(end, 0, -1):\n",
    "            if array[i-1] > array[i]:\n",
    "                array[i-1], array[i] = array[i], array[i-1]\n",
    "\n",
    "    return array\n",
    "\n",
    "insertion = random.sample(range(0, 10), 10)\n",
    "print(insertion)\n",
    "print(insertion_sort(insertion))"
   ]
  },
  {
   "cell_type": "code",
   "execution_count": 27,
   "metadata": {},
   "outputs": [
    {
     "name": "stdout",
     "output_type": "stream",
     "text": [
      "[8, 5, 1, 6, 4, 2, 9, 0, 3, 7]\n",
      "[0, 1, 2, 3, 4, 5, 6, 7, 8, 9]\n"
     ]
    }
   ],
   "source": [
    "import random\n",
    "\n",
    "def insertion_sort(array):\n",
    "\n",
    "    for end in range(len(array)):\n",
    "        i = end\n",
    "        while i > 0 and array[i-1] > array[i]:\n",
    "            array[i-1], array[i] = array[i], array[i-1]\n",
    "            i -= 1\n",
    "\n",
    "    return array\n",
    "\n",
    "insertion = random.sample(range(0, 10), 10)\n",
    "print(insertion)\n",
    "print(insertion_sort(insertion))"
   ]
  },
  {
   "cell_type": "code",
   "execution_count": 29,
   "metadata": {},
   "outputs": [
    {
     "name": "stdout",
     "output_type": "stream",
     "text": [
      "[5, 7, 0, 8, 3, 9, 6, 1, 4, 2]\n",
      "[0, 1, 2, 3, 4, 5, 6, 7, 8, 9]\n"
     ]
    }
   ],
   "source": [
    "import random\n",
    "\n",
    "def insertion_sort(array):\n",
    "\n",
    "    for end in range(len(array)):\n",
    "        to_insert = array[end]\n",
    "        i = end\n",
    "        while i > 0 and array[i-1] > to_insert:\n",
    "            array[i] = array[i-1]\n",
    "            i -= 1\n",
    "        array[i] = to_insert\n",
    "\n",
    "    return array\n",
    "\n",
    "insertion = random.sample(range(0, 10), 10)\n",
    "print(insertion)\n",
    "print(insertion_sort(insertion))"
   ]
  },
  {
   "attachments": {},
   "cell_type": "markdown",
   "metadata": {},
   "source": [
    "### 퀵 정렬이란?\n",
    "알고리즘에서 가장 유용하며 유명한 퀵 정렬을 복습해 보겠다.\n",
    "\n",
    "병합 정렬과 마찬가지로 퀵 정렬도 분할 정복기법과 재귀 알고리즘을 사용하여 정렬을 한다.\n",
    "\n",
    "피벗(pivot)을 어떻게 정하냐에 따라 효율이 달라지기 때문에 불안정 정렬에 속한다.\n",
    "\n",
    "### 특징\n",
    "1. 파이썬의 list.sort()나 자바의 Arrays.sort()의 정렬 함수가 퀵정렬을 기본으로 한다.\n",
    "2. 일반적으로 원소의 개수가 적어질 수록 나쁜 중간값이 선택될 확률이 높기 때문에 원소의 개수에 따라 퀵 정렬에 다른 정렬을 혼합해서 쓰는 경우가 많다.\n",
    "3. 병합 정렬과 동일하게 분할 정복과 재귀 알고리즘을 사용한다.\n",
    "4. 병합 정렬은 정 중앙을 기준으로 단순 분할 후 병합하는 연산이라면 퀵 정렬은 분할 시점부터 비교 연산이 많이 일어나기 때문에 병합에 들어가는 비용이 적다.\n",
    "\n",
    "### 복잡도\n",
    "1. 퀵 정렬은 pivot값을 어떻게 선택하느냐에 따라 크게 달라질 수 있다. 이상적인 경우에는 pivot 값을 기준으로 동일한 개수의 작은 값들과 큰 값들이 분할되어 병합 정렬과 마찬가지로 O(nlog(n))의 시간 복잡도를 가진다.\n",
    "2. pivot값을 기준으로 분할 했을 때 값들이 한 편으로 크게 치우치게 되면 퀵 정렬은 성능은 저하되게 되며, 최악의 경우 한 편으로만 모든 값이 몰리게 되어 O(n^2)의 시간 복잡도를 보인다."
   ]
  },
  {
   "cell_type": "code",
   "execution_count": 34,
   "metadata": {},
   "outputs": [
    {
     "name": "stdout",
     "output_type": "stream",
     "text": [
      "[4, 7, 3, 2, 1, 8, 9, 0, 5, 6]\n",
      "[0, 1, 2, 3, 4, 5, 6, 7, 8, 9]\n"
     ]
    }
   ],
   "source": [
    "import random\n",
    "\n",
    "def quick_sort(array):\n",
    "    length = len(array)\n",
    "\n",
    "    if length < 2:\n",
    "        return array\n",
    "    \n",
    "    pivot = array[length// 2]\n",
    "    less_array, equal_array, larger_array = [], [], []\n",
    "\n",
    "    for num in array:\n",
    "        if num > pivot:\n",
    "            larger_array.append(num)\n",
    "        elif num < pivot:\n",
    "            less_array.append(num)\n",
    "        else:\n",
    "            equal_array.append(num)\n",
    "\n",
    "    return quick_sort(less_array) + equal_array + quick_sort(larger_array)\n",
    "\n",
    "quick = random.sample(range(0, 10), 10)\n",
    "print(quick)\n",
    "print(quick_sort(quick))"
   ]
  },
  {
   "attachments": {},
   "cell_type": "markdown",
   "metadata": {},
   "source": [
    "### 최적화\n",
    "위의 코드는 재귀 호출될 때마다 새로운 리스트를 생성하여 리턴하기 때문에 메모리 사용 측면에서 비효율적이다.\n",
    "\n",
    "큰 사이즈의 입력 데이터를 다뤄야하는 상용 코드에서는 이러한 단점은 치명적으로 작용할 수 있다. 그렇기 때문에 추가 메모리 사용이 적은 in-place정렬을 선호한다."
   ]
  },
  {
   "cell_type": "code",
   "execution_count": 1,
   "metadata": {},
   "outputs": [
    {
     "name": "stdout",
     "output_type": "stream",
     "text": [
      "[0, 1, 2, 3, 4, 5, 6, 7, 8, 9]\n"
     ]
    }
   ],
   "source": [
    "import random\n",
    "\n",
    "def quick_sort(array):\n",
    "    def sort(low, high):\n",
    "        if high <= low:\n",
    "            return\n",
    "        \n",
    "        mid = partition(low, high)\n",
    "        sort(low, mid-1)\n",
    "        sort(mid, high)\n",
    "\n",
    "    def partition(low, high):\n",
    "        pivot = array[(low+high) // 2]\n",
    "        while low <= high:\n",
    "            while array[low] < pivot:\n",
    "                low += 1\n",
    "            while array[high] > pivot:\n",
    "                high -= 1\n",
    "            \n",
    "            if low <= high:\n",
    "                array[low], array[high] = array[high], array[low]\n",
    "                low, high = low + 1, high -1\n",
    "        return low\n",
    "\n",
    "    return sort(0, len(array)-1)\n",
    "\n",
    "quick = random.sample(range(0, 10), 10)\n",
    "quick_sort(quick)\n",
    "print(quick)"
   ]
  },
  {
   "attachments": {},
   "cell_type": "markdown",
   "metadata": {},
   "source": [
    "### 병합 정렬\n",
    "합병 정렬이라고도 하며, 퀵 정렬과 동일하게 분할 정복과 재귀 알고리즘을 사용하여 정렬을 한다.\n",
    "\n",
    "퀵 정렬과 마찬가지로 빠른 정렬로 분류되며 많이 사용되고 언급되는 정렬 방식이다. pivot을 어떻게 정하느냐에 따라 효율이 달라지는 불안정 정렬인 퀵 정렬과는 반대로 안정 정렬에 속한다."
   ]
  },
  {
   "cell_type": "code",
   "execution_count": 7,
   "metadata": {},
   "outputs": [
    {
     "name": "stdout",
     "output_type": "stream",
     "text": [
      "[9, 5, 4, 7, 6, 2, 8, 1, 3, 0]\n",
      "[0, 1, 2, 3, 4, 5, 6, 7, 8, 9]\n"
     ]
    }
   ],
   "source": [
    "import random\n",
    "\n",
    "def merge_sort(array):\n",
    "    length = len(array)\n",
    "\n",
    "    if length < 2:\n",
    "        return array\n",
    "    \n",
    "    mid = length // 2\n",
    "    low_array = merge_sort(array[:mid])\n",
    "    high_array = merge_sort(array[mid:])\n",
    "\n",
    "    merged_array = []\n",
    "\n",
    "    l, h = 0, 0\n",
    "    while l < len(low_array) and h < len(high_array):\n",
    "        if low_array[l] < high_array[h]:\n",
    "            merged_array.append(low_array[l])\n",
    "            l += 1\n",
    "        else:\n",
    "            merged_array.append(high_array[h])\n",
    "            h += 1\n",
    "    merged_array += low_array[l:]\n",
    "    merged_array += high_array[h:]\n",
    "    return merged_array\n",
    "\n",
    "merge = random.sample(range(0, 10), 10)\n",
    "print(merge)\n",
    "print(merge_sort(merge))"
   ]
  },
  {
   "attachments": {},
   "cell_type": "markdown",
   "metadata": {},
   "source": [
    "### 최적화\n",
    "병합 결과를 담을 새로운 배열을 매번 생성해서 리턴하지 않고, 인덱스 접근을 이용해 입력 배열을 계속해서 업데이트하면 메모리 사용량을 대폭 줄일 수 있다."
   ]
  },
  {
   "cell_type": "code",
   "execution_count": 8,
   "metadata": {},
   "outputs": [
    {
     "name": "stdout",
     "output_type": "stream",
     "text": [
      "[3, 7, 9, 5, 2, 0, 1, 4, 8, 6]\n",
      "[0, 1, 3, 4, 5, 6, 7, 8, 9, 2]\n"
     ]
    }
   ],
   "source": [
    "import random\n",
    "def merge_sort(array):\n",
    "    def sort(low, high):\n",
    "        if high - low < 2:\n",
    "            return\n",
    "        \n",
    "        mid = (low + high) // 2\n",
    "        sort(low, mid-1)\n",
    "        sort(mid, high)\n",
    "        merge(low, mid, high)\n",
    "        \n",
    "    def merge(low, mid, high):\n",
    "        temp = []\n",
    "        l, h = low, mid\n",
    "\n",
    "        while l < mid and h < high:\n",
    "            if array[l] < array[h]:\n",
    "                temp.append(array[l])\n",
    "                l += 1\n",
    "            else:\n",
    "                temp.append(array[h])\n",
    "                h += 1\n",
    "\n",
    "        while l < mid:\n",
    "            temp.append(array[l])\n",
    "            l += 1\n",
    "        while h < high:\n",
    "            temp.append(array[h])\n",
    "            h += 1\n",
    "        \n",
    "        for i in range(low, high):\n",
    "            array[i] = temp[i - low]\n",
    "\n",
    "    return sort(0, len(array))\n",
    "\n",
    "merge = random.sample(range(0, 10), 10)\n",
    "print(merge)\n",
    "merge_sort(merge)\n",
    "print(merge)"
   ]
  },
  {
   "cell_type": "code",
   "execution_count": null,
   "metadata": {},
   "outputs": [],
   "source": []
  }
 ],
 "metadata": {
  "kernelspec": {
   "display_name": "Python 3",
   "language": "python",
   "name": "python3"
  },
  "language_info": {
   "codemirror_mode": {
    "name": "ipython",
    "version": 3
   },
   "file_extension": ".py",
   "mimetype": "text/x-python",
   "name": "python",
   "nbconvert_exporter": "python",
   "pygments_lexer": "ipython3",
   "version": "3.11.0"
  },
  "orig_nbformat": 4,
  "vscode": {
   "interpreter": {
    "hash": "5c7b89af1651d0b8571dde13640ecdccf7d5a6204171d6ab33e7c296e100e08a"
   }
  }
 },
 "nbformat": 4,
 "nbformat_minor": 2
}
