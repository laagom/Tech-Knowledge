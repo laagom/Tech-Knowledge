{
 "cells": [
  {
   "attachments": {},
   "cell_type": "markdown",
   "metadata": {},
   "source": [
    "### 거품 정렬 (BubbleSort)"
   ]
  },
  {
   "cell_type": "code",
   "execution_count": 40,
   "metadata": {},
   "outputs": [
    {
     "name": "stdout",
     "output_type": "stream",
     "text": [
      "[1, 2, 3, 4, 5]\n"
     ]
    }
   ],
   "source": [
    "bubble_arry = [3, 2, 4, 5, 1]\n",
    "length = len(bubble_arry)-1\n",
    "\n",
    "for i in range(length):\n",
    "    for j in range(length-i): \n",
    "\n",
    "        if bubble_arry[j] > bubble_arry[j+1]:\n",
    "            bubble_arry[j], bubble_arry[j+1] = bubble_arry[j+1], bubble_arry[j]\n",
    "\n",
    "print(bubble_arry)\n"
   ]
  },
  {
   "cell_type": "code",
   "execution_count": 52,
   "metadata": {},
   "outputs": [
    {
     "name": "stdout",
     "output_type": "stream",
     "text": [
      "9.540999599266797e-06\n",
      "[1, 2, 3, 4, 5, 6, 7, 8, 9, 10]\n"
     ]
    }
   ],
   "source": [
    "import timeit\n",
    "\n",
    "def time_decorator(func):\n",
    "\n",
    "    def exec_func(*args, **kwargs):\n",
    "        start_time = timeit.default_timer()\n",
    "        result = func(*args, **kwargs)\n",
    "        print(timeit.default_timer() - start_time)\n",
    "        return result\n",
    "    return exec_func\n",
    "\n",
    "@time_decorator    \n",
    "def bubbleSort(array):\n",
    "    length = len(array)-1\n",
    "\n",
    "    for i in range(length):\n",
    "        for j in range(length-i):\n",
    "            if array[j] > array[j+1]:\n",
    "                array[j],array[j+1] = array[j+1], array[j]\n",
    "\n",
    "    return array\n",
    "\n",
    "bubble_arry = [10, 1, 9, 2, 8, 3, 7, 4, 6, 5]\n",
    "\n",
    "print(bubbleSort(bubble_arry))"
   ]
  },
  {
   "cell_type": "code",
   "execution_count": 51,
   "metadata": {},
   "outputs": [
    {
     "name": "stdout",
     "output_type": "stream",
     "text": [
      "7.375005225185305e-06\n",
      "[1, 2, 3, 4, 5, 6, 7, 8, 9, 10]\n"
     ]
    }
   ],
   "source": [
    "import timeit\n",
    "\n",
    "def time_decorator(func):\n",
    "\n",
    "    def exec_func(*args, **kwargs):\n",
    "        start_time = timeit.default_timer()\n",
    "        result = func(*args, **kwargs)\n",
    "        print(timeit.default_timer() - start_time)\n",
    "        return result\n",
    "    return exec_func\n",
    "\n",
    "@time_decorator\n",
    "def bubbleSort(array):\n",
    "    length = len(array)-1\n",
    "\n",
    "    for i in range(length):\n",
    "        switch = False\n",
    "        for j in range(length-i):\n",
    "            if array[j] > array[j+1]:\n",
    "                array[j], array[j+1] = array[j+1], array[j]\n",
    "                switch = True\n",
    "        if not switch:\n",
    "            break\n",
    "\n",
    "    return array\n",
    "\n",
    "bubble_arry = [10, 1, 9, 2, 8, 3, 7, 4, 6, 5]\n",
    "\n",
    "print(bubbleSort(bubble_arry))"
   ]
  },
  {
   "attachments": {},
   "cell_type": "markdown",
   "metadata": {},
   "source": [
    "### 추가 학습"
   ]
  },
  {
   "cell_type": "code",
   "execution_count": 47,
   "metadata": {},
   "outputs": [
    {
     "name": "stdout",
     "output_type": "stream",
     "text": [
      "[1, 2, 3, 4, 5]\n"
     ]
    }
   ],
   "source": [
    "bubble_arry = [3, 5, 1, 2, 4]\n",
    "\n",
    "# j loop를 돌때 j에 대한 범위를 i만큼 제외하며 loop를 돌리는 코드\n",
    "def bubble_sort1(arry):\n",
    "    length = len(arry)-1\n",
    "\n",
    "    for i in range(length):\n",
    "        for j in range(length-i):\n",
    "            if arry[j] > arry[j+1]:\n",
    "                arry[j], arry[j+1] = arry[j+1], arry[j]\n",
    "    return arry\n",
    "\n",
    "# i loop를 돌리때 i의 범위를 줄어들게 설정해논 후 j의 범위를 i길이 만큼 돌리는 코드\n",
    "def bubble_sort2(arry):\n",
    "    length = len(arry)-1\n",
    "\n",
    "    for i in range(length, 0, -1):\n",
    "        for j in range(i):\n",
    "            if arry[j] > arry[j+1]:\n",
    "                arry[j], arry[j+1] = arry[j+1], arry[j]\n",
    "    return arry\n",
    "\n",
    "print(bubble_sort2(bubble_arry))"
   ]
  },
  {
   "attachments": {},
   "cell_type": "markdown",
   "metadata": {},
   "source": [
    "### 선택 정렬 (SelectionSort)"
   ]
  },
  {
   "cell_type": "code",
   "execution_count": 1,
   "metadata": {},
   "outputs": [
    {
     "name": "stdout",
     "output_type": "stream",
     "text": [
      "[150, 160, 170, 180, 190]\n"
     ]
    }
   ],
   "source": [
    "def selection_sort(array):\n",
    "    for i in range(len(array)-1):\n",
    "        min_idx = i\n",
    "\n",
    "        for j in range(i+1, len(array)):\n",
    "            if array[j] < array[min_idx]:\n",
    "                min_idx = j\n",
    "                \n",
    "        array[i], array[min_idx] = array[min_idx], array[i]\n",
    "\n",
    "    return array\n",
    "\n",
    "height = [190, 170, 150, 160, 180]\n",
    "print(selection_sort(height))"
   ]
  },
  {
   "cell_type": "code",
   "execution_count": 5,
   "metadata": {},
   "outputs": [
    {
     "name": "stdout",
     "output_type": "stream",
     "text": [
      "6.4999330788850784e-06\n",
      "[1, 2, 3, 4, 5, 6, 7, 8, 9, 10]\n"
     ]
    }
   ],
   "source": [
    "import timeit\n",
    "\n",
    "def time_decorator(func):\n",
    "\n",
    "    def exec_func(*args, **kwargs):\n",
    "        start_time = timeit.default_timer()\n",
    "        result = func(*args, **kwargs)\n",
    "        print(timeit.default_timer() - start_time)\n",
    "        return result\n",
    "    return exec_func\n",
    "\n",
    "@time_decorator\n",
    "def selection_sort(array):\n",
    "    for i in range(len(array)-1):\n",
    "        min_idx = i\n",
    "\n",
    "        for j in range(i+1, len(array)):\n",
    "            if array[j] < array[min_idx]:\n",
    "                min_idx = j\n",
    "                \n",
    "        array[i], array[min_idx] = array[min_idx], array[i]\n",
    "\n",
    "    return array\n",
    "\n",
    "select_arry = [10, 1, 9, 2, 8, 3, 7, 4, 6, 5]\n",
    "print(selection_sort(select_arry))"
   ]
  },
  {
   "attachments": {},
   "cell_type": "markdown",
   "metadata": {},
   "source": [
    "### 추가 학습"
   ]
  },
  {
   "cell_type": "code",
   "execution_count": 57,
   "metadata": {},
   "outputs": [
    {
     "name": "stdout",
     "output_type": "stream",
     "text": [
      "1 5\n",
      "2 3\n",
      "3 1\n",
      "4 2\n",
      "-----------\n",
      "2 3\n",
      "3 4\n",
      "4 2\n",
      "-----------\n",
      "3 4\n",
      "4 5\n",
      "-----------\n",
      "4 5\n",
      "-----------\n",
      "[1, 2, 3, 4, 5]\n"
     ]
    }
   ],
   "source": [
    "selection_array = [4, 5, 3, 1, 2]\n",
    "length = len(selection_array)-1\n",
    "\n",
    "for i in range(length):\n",
    "    min_idx = i\n",
    "    for j in range(i+1, length+1):\n",
    "        print(j, selection_array[j])\n",
    "        if selection_array[j] < selection_array[min_idx]:\n",
    "            min_idx = j\n",
    "    selection_array[i], selection_array[min_idx] = selection_array[min_idx], selection_array[i]\n",
    "    print('-----------')\n",
    "print(selection_array)"
   ]
  },
  {
   "attachments": {},
   "cell_type": "markdown",
   "metadata": {},
   "source": [
    "### 해시(Hash)"
   ]
  },
  {
   "cell_type": "code",
   "execution_count": 2,
   "metadata": {},
   "outputs": [
    {
     "name": "stdout",
     "output_type": "stream",
     "text": [
      "{}\n",
      "{}\n"
     ]
    }
   ],
   "source": [
    "# 딕셔너리 생성하기\n",
    "init_dict1 = {}\n",
    "init_dict2 = dict()\n",
    "\n",
    "print(init_dict1)\n",
    "print(init_dict2)"
   ]
  },
  {
   "cell_type": "code",
   "execution_count": 3,
   "metadata": {},
   "outputs": [
    {
     "data": {
      "text/plain": [
       "{'name': '조OO', 'age': 32, 'marital': False, 'height': 183}"
      ]
     },
     "execution_count": 3,
     "metadata": {},
     "output_type": "execute_result"
    }
   ],
   "source": [
    "# Key-Value쌍을 가지는 특정 dictionary 선언\n",
    "Lagom = {\n",
    "    'name' : '조OO',\n",
    "    'age' : 32,\n",
    "    'marital' : False,\n",
    "    'height' : 183,\n",
    "}\n",
    "\n",
    "Lagom\n",
    "'''\n",
    "{'name': '조OO', 'age': 32, 'marital': False, 'height': 183}\n",
    "'''"
   ]
  },
  {
   "cell_type": "code",
   "execution_count": 6,
   "metadata": {},
   "outputs": [
    {
     "data": {
      "text/plain": [
       "{'name': '조OO',\n",
       " 'age': 32,\n",
       " 'marital': False,\n",
       " 'height': 183,\n",
       " 'Friend': {'Jinho', 'MinWook'}}"
      ]
     },
     "execution_count": 6,
     "metadata": {},
     "output_type": "execute_result"
    }
   ],
   "source": [
    "# dictionary를 value로 가지는 dictionary 선언\n",
    "Lagom = {\n",
    "    'name' : '조OO',\n",
    "    'age' : 32,\n",
    "    'marital' : False,\n",
    "    'height' : 183,\n",
    "    'Friend' : {\n",
    "        'MinWook',\n",
    "        'Jinho'\n",
    "    }\n",
    "}\n",
    "\n",
    "Lagom\n",
    "'''\n",
    "{'name': '조OO',\n",
    " 'age': 32,\n",
    " 'marital': False,\n",
    " 'height': 183,\n",
    " 'Friend': {'Jinho', 'MinWook'}}\n",
    "'''\n"
   ]
  },
  {
   "cell_type": "code",
   "execution_count": 7,
   "metadata": {},
   "outputs": [
    {
     "data": {
      "text/plain": [
       "'조OO'"
      ]
     },
     "execution_count": 7,
     "metadata": {},
     "output_type": "execute_result"
    }
   ],
   "source": [
    "# [] 기호로 원소 가져오기\n",
    "Lagom = {\n",
    "    'name' : '조OO',\n",
    "    'age' : 32,\n",
    "    'marital' : False,\n",
    "    'height' : 183,\n",
    "    'Friend' : {\n",
    "        'MinWook',\n",
    "        'Jinho'\n",
    "    }\n",
    "}\n",
    "Lagom['name']"
   ]
  },
  {
   "cell_type": "code",
   "execution_count": 10,
   "metadata": {},
   "outputs": [
    {
     "data": {
      "text/plain": [
       "80"
      ]
     },
     "execution_count": 10,
     "metadata": {},
     "output_type": "execute_result"
    }
   ],
   "source": [
    "# get 메소드로 원소 가져오기\n",
    "# 딕셔너리에 해당 key가 없는 경우 error를 발생하는 대신 특정 값을 가져오게 하기\n",
    "Lagom = {\n",
    "    'name' : '조OO',\n",
    "    'age' : 32,\n",
    "    'marital' : False,\n",
    "    'height' : 183,\n",
    "    'Friend' : {\n",
    "        'MinWook',\n",
    "        'Jinho'\n",
    "    }\n",
    "}\n",
    "\n",
    "Lagom.get('weight', 80)"
   ]
  },
  {
   "cell_type": "code",
   "execution_count": 11,
   "metadata": {},
   "outputs": [
    {
     "data": {
      "text/plain": [
       "{'name': '조OO',\n",
       " 'age': 32,\n",
       " 'marital': False,\n",
       " 'height': 183,\n",
       " 'Friend': {'Jinho', 'MinWook'},\n",
       " 'weight': 80}"
      ]
     },
     "execution_count": 11,
     "metadata": {},
     "output_type": "execute_result"
    }
   ],
   "source": [
    "# 값 넣기\n",
    "Lagom = {\n",
    "    'name' : '조OO',\n",
    "    'age' : 32,\n",
    "    'marital' : False,\n",
    "    'height' : 183,\n",
    "    'Friend' : {\n",
    "        'MinWook',\n",
    "        'Jinho'\n",
    "    }\n",
    "}\n",
    "Lagom['weight'] = 80\n",
    "Lagom"
   ]
  },
  {
   "cell_type": "code",
   "execution_count": 12,
   "metadata": {},
   "outputs": [
    {
     "data": {
      "text/plain": [
       "{'name': '박OO',\n",
       " 'age': 32,\n",
       " 'marital': False,\n",
       " 'height': 183,\n",
       " 'Friend': {'Jinho', 'MinWook'}}"
      ]
     },
     "execution_count": 12,
     "metadata": {},
     "output_type": "execute_result"
    }
   ],
   "source": [
    "# 값 수정\n",
    "Lagom = {\n",
    "    'name' : '조OO',\n",
    "    'age' : 32,\n",
    "    'marital' : False,\n",
    "    'height' : 183,\n",
    "    'Friend' : {\n",
    "        'MinWook',\n",
    "        'Jinho'\n",
    "    }\n",
    "}\n",
    "Lagom['name'] = '박OO'\n",
    "Lagom\n"
   ]
  },
  {
   "cell_type": "code",
   "execution_count": 13,
   "metadata": {},
   "outputs": [
    {
     "data": {
      "text/plain": [
       "{'age': 32, 'marital': False, 'height': 183, 'Friend': {'Jinho', 'MinWook'}}"
      ]
     },
     "execution_count": 13,
     "metadata": {},
     "output_type": "execute_result"
    }
   ],
   "source": [
    "# del 이용하기 - 키가 있는 경우\n",
    "Lagom = {\n",
    "    'name' : '조OO',\n",
    "    'age' : 32,\n",
    "    'marital' : False,\n",
    "    'height' : 183,\n",
    "    'Friend' : {\n",
    "        'MinWook',\n",
    "        'Jinho'\n",
    "    }\n",
    "}\n",
    "del Lagom['name']\n",
    "\n",
    "Lagom"
   ]
  },
  {
   "cell_type": "code",
   "execution_count": 14,
   "metadata": {},
   "outputs": [
    {
     "ename": "KeyError",
     "evalue": "'weight'",
     "output_type": "error",
     "traceback": [
      "\u001b[0;31m---------------------------------------------------------------------------\u001b[0m",
      "\u001b[0;31mKeyError\u001b[0m                                  Traceback (most recent call last)",
      "Cell \u001b[0;32mIn [14], line 11\u001b[0m\n\u001b[1;32m      1\u001b[0m Lagom \u001b[39m=\u001b[39m {\n\u001b[1;32m      2\u001b[0m     \u001b[39m'\u001b[39m\u001b[39mname\u001b[39m\u001b[39m'\u001b[39m : \u001b[39m'\u001b[39m\u001b[39m조OO\u001b[39m\u001b[39m'\u001b[39m,\n\u001b[1;32m      3\u001b[0m     \u001b[39m'\u001b[39m\u001b[39mage\u001b[39m\u001b[39m'\u001b[39m : \u001b[39m32\u001b[39m,\n\u001b[0;32m   (...)\u001b[0m\n\u001b[1;32m      9\u001b[0m     }\n\u001b[1;32m     10\u001b[0m }\n\u001b[0;32m---> 11\u001b[0m \u001b[39mdel\u001b[39;00m Lagom[\u001b[39m'\u001b[39;49m\u001b[39mweight\u001b[39;49m\u001b[39m'\u001b[39;49m]\n",
      "\u001b[0;31mKeyError\u001b[0m: 'weight'"
     ]
    }
   ],
   "source": [
    "Lagom = {\n",
    "    'name' : '조OO',\n",
    "    'age' : 32,\n",
    "    'marital' : False,\n",
    "    'height' : 183,\n",
    "    'Friend' : {\n",
    "        'MinWook',\n",
    "        'Jinho'\n",
    "    }\n",
    "}\n",
    "del Lagom['weight']"
   ]
  },
  {
   "cell_type": "code",
   "execution_count": 17,
   "metadata": {},
   "outputs": [
    {
     "data": {
      "text/plain": [
       "32"
      ]
     },
     "execution_count": 17,
     "metadata": {},
     "output_type": "execute_result"
    }
   ],
   "source": [
    "# pop 이용하기 - 키가 있는 경우 대응하는 value 리턴\n",
    "Lagom = {\n",
    "    'name' : '조OO',\n",
    "    'age' : 32,\n",
    "    'marital' : False,\n",
    "    'height' : 183,\n",
    "    'Friend' : {\n",
    "        'MinWook',\n",
    "        'Jinho'\n",
    "    }\n",
    "}\n",
    "Lagom.pop('age', 18)"
   ]
  },
  {
   "cell_type": "code",
   "execution_count": 18,
   "metadata": {},
   "outputs": [
    {
     "data": {
      "text/plain": [
       "18"
      ]
     },
     "execution_count": 18,
     "metadata": {},
     "output_type": "execute_result"
    }
   ],
   "source": [
    "# pop 이용하기 - 키가 없는 경우 대응하는 default 리턴\n",
    "Lagom = {\n",
    "    'name' : '조OO',\n",
    "    'age' : 32,\n",
    "    'marital' : False,\n",
    "    'height' : 183,\n",
    "    'Friend' : {\n",
    "        'MinWook',\n",
    "        'Jinho'\n",
    "    }\n",
    "}\n",
    "Lagom.pop('weight', 18)"
   ]
  },
  {
   "cell_type": "code",
   "execution_count": 19,
   "metadata": {},
   "outputs": [
    {
     "name": "stdout",
     "output_type": "stream",
     "text": [
      "name\n",
      "age\n",
      "marital\n",
      "height\n",
      "Friend\n"
     ]
    }
   ],
   "source": [
    "Lagom = {\n",
    "    'name' : '조OO',\n",
    "    'age' : 32,\n",
    "    'marital' : False,\n",
    "    'height' : 183,\n",
    "    'Friend' : {\n",
    "        'MinWook',\n",
    "        'Jinho'\n",
    "    }\n",
    "}\n",
    "for key in Lagom:\n",
    "    print(key)"
   ]
  },
  {
   "cell_type": "code",
   "execution_count": 22,
   "metadata": {},
   "outputs": [
    {
     "name": "stdout",
     "output_type": "stream",
     "text": [
      "name 조OO\n",
      "age 32\n",
      "marital False\n",
      "height 183\n",
      "Friend {'Jinho', 'MinWook'}\n"
     ]
    }
   ],
   "source": [
    "Lagom = {\n",
    "    'name' : '조OO',\n",
    "    'age' : 32,\n",
    "    'marital' : False,\n",
    "    'height' : 183,\n",
    "    'Friend' : {\n",
    "        'MinWook',\n",
    "        'Jinho'\n",
    "    }\n",
    "}\n",
    "for key, value in Lagom.items():\n",
    "    print(key, value)"
   ]
  },
  {
   "attachments": {},
   "cell_type": "markdown",
   "metadata": {},
   "source": [
    "### 해시 테이블(Hash Table)구현"
   ]
  },
  {
   "cell_type": "code",
   "execution_count": 1,
   "metadata": {},
   "outputs": [
    {
     "name": "stdout",
     "output_type": "stream",
     "text": [
      "[0, 1111, 2222, 3333, 4444, 0, 0, 0]\n",
      "4444\n",
      "[0, 1111, 2222, 3333, 0, 0, 0, 0]\n"
     ]
    }
   ],
   "source": [
    "class HashTable:\n",
    "    def __init__(self, table_size):\n",
    "        self.size = table_size      # 총 공간(bucket) 수\n",
    "        self.hash_table = [0 for a in range(self.size)]     # 빈 hash table 생성     \n",
    "    \n",
    "    def getKey(self, data):     # key(문자) 첫 문자의 유니코드를 반환\n",
    "        self.key = ord(data[0])\n",
    "        return self.key\n",
    "    \n",
    "    def hashFunction(self, key):    # key의 hash 값을 반환\n",
    "        return key % self.size\n",
    "    \n",
    "    def getAddress(self, key):      # hash address를 반환\n",
    "        myKey = self.getKey(key)\n",
    "        hash_address = self.hashFunction(myKey)\n",
    "        return hash_address\n",
    "    \n",
    "    def save(self, key, value):     # 데이터 저장\n",
    "        hash_address = self.getAddress(key)\n",
    "        self.hash_table[hash_address] = value\n",
    "\n",
    "    def read(self, key):    # key에 해당하는 value 반환\n",
    "        hash_address = self.getAddress(key)\n",
    "        return self.hash_table[hash_address]\n",
    "    \n",
    "    def delete(self, key):\n",
    "        hash_address = self.getAddress(key)\n",
    "\n",
    "        if self.hash_table[hash_address] != 0:\n",
    "            self.hash_table[hash_address] = 0\n",
    "            return True\n",
    "        else:\n",
    "            return False\n",
    "\n",
    "if __name__ == '__main__':\n",
    "    h_table = HashTable(8)\n",
    "    h_table.save('a', 1111)\n",
    "    h_table.save('b', 2222)\n",
    "    h_table.save('c', 3333)\n",
    "    h_table.save('d', 4444)\n",
    "\n",
    "    print(h_table.hash_table) # [0, 1111, 2222, 3333, 4444, 0, 0, 0]\n",
    "\n",
    "    print(h_table.read('d')) # 4444\n",
    "\n",
    "    h_table.delete('d')\n",
    "\n",
    "    print(h_table.hash_table) # [0, 1111, 2222, 3333, 0, 0, 0, 0]"
   ]
  },
  {
   "attachments": {},
   "cell_type": "markdown",
   "metadata": {},
   "source": [
    "### 해시 충돌(Hash Collision)_Chaining_1"
   ]
  },
  {
   "cell_type": "code",
   "execution_count": 4,
   "metadata": {},
   "outputs": [
    {
     "ename": "TypeError",
     "evalue": "ord() expected a character, but string of length 2 found",
     "output_type": "error",
     "traceback": [
      "\u001b[0;31m---------------------------------------------------------------------------\u001b[0m",
      "\u001b[0;31mTypeError\u001b[0m                                 Traceback (most recent call last)",
      "Cell \u001b[0;32mIn [4], line 36\u001b[0m\n\u001b[1;32m     33\u001b[0m         \u001b[39mreturn\u001b[39;00m \u001b[39mNone\u001b[39;00m\n\u001b[1;32m     35\u001b[0m \u001b[39m# test1\u001b[39;00m\n\u001b[0;32m---> 36\u001b[0m \u001b[39mprint\u001b[39m(get_key(\u001b[39m'\u001b[39;49m\u001b[39mDA\u001b[39;49m\u001b[39m'\u001b[39;49m), get_key(\u001b[39m'\u001b[39m\u001b[39mLan\u001b[39m\u001b[39m'\u001b[39m))\n\u001b[1;32m     38\u001b[0m save_data(\u001b[39m'\u001b[39m\u001b[39mDA\u001b[39m\u001b[39m'\u001b[39m, \u001b[39m'\u001b[39m\u001b[39m0101234567\u001b[39m\u001b[39m'\u001b[39m)\n\u001b[1;32m     39\u001b[0m save_data(\u001b[39m'\u001b[39m\u001b[39mLan\u001b[39m\u001b[39m'\u001b[39m, \u001b[39m'\u001b[39m\u001b[39m0102582582\u001b[39m\u001b[39m'\u001b[39m)\n",
      "Cell \u001b[0;32mIn [4], line 4\u001b[0m, in \u001b[0;36mget_key\u001b[0;34m(data)\u001b[0m\n\u001b[1;32m      3\u001b[0m \u001b[39mdef\u001b[39;00m \u001b[39mget_key\u001b[39m(data):\n\u001b[0;32m----> 4\u001b[0m     \u001b[39mreturn\u001b[39;00m \u001b[39mord\u001b[39;49m(data)\n",
      "\u001b[0;31mTypeError\u001b[0m: ord() expected a character, but string of length 2 found"
     ]
    }
   ],
   "source": [
    "hash_table = list([0 for i in range(8)])\n",
    "\n",
    "def get_key(data):\n",
    "    return hash(data) # ord : 유니코드를 반환하는 함수\n",
    "\n",
    "def hash_function(key):\n",
    "    return key % 8\n",
    "\n",
    "def save_data(data, value):\n",
    "    index_key = get_key(data)\n",
    "    hash_address = hash_function(index_key)\n",
    "\n",
    "    if hash_table[hash_address] != 0:\n",
    "        for index in range(len(hash_table[hash_address])):\n",
    "            if hash_table[hash_address][index][0] == index_key:\n",
    "                hash_table[hash_address][index][1] = value\n",
    "                return\n",
    "        # 배정받은 공간이 같아서 충돌이 일어난다면 리스트에 추가    \n",
    "        hash_table[hash_address].append([index_key, value])\n",
    "    else:\n",
    "        hash_table[hash_address] = [[index_key, value]]\n",
    "\n",
    "def read_data(data):\n",
    "    index_key = get_key(data)\n",
    "    hash_address = hash_function(index_key)\n",
    "\n",
    "    if hash_table[hash_address] != 0:\n",
    "        for index in range(len(hash_table[hash_address])):\n",
    "            if hash_table[hash_address][index][0] == index_key:\n",
    "                return hash_table[hash_address][index][1]\n",
    "        return None\n",
    "    else:\n",
    "        return None\n",
    "\n",
    "# test1\n",
    "print(get_key('DA'), get_key('Lan'))\n",
    "\n",
    "save_data('DA', '0101234567')\n",
    "save_data('Lan', '0102582582')\n",
    "\n",
    "hash_table\n",
    "\n",
    "# test2\n",
    "# data = [('Ann', '01012345678'), ('David', '01013579246'), ('Becy', '01024681357')\n",
    "#         , ('Jake', '01011235813'), ('Joey', '01011117777'), ('Lily', '01022558811')\n",
    "#         , ('Jenny', '01014916253'), ('Jessy', '01044822811'), ('Rose', '01025625232')]\n",
    "\n",
    "# for index in data:\n",
    "#     save_data(index[0], index[1])\n",
    "\n",
    "# hash_table"
   ]
  },
  {
   "attachments": {},
   "cell_type": "markdown",
   "metadata": {},
   "source": [
    "### 충돌(Hash Collision)_Chaining_2"
   ]
  },
  {
   "cell_type": "code",
   "execution_count": 2,
   "metadata": {},
   "outputs": [
    {
     "name": "stdout",
     "output_type": "stream",
     "text": [
      "1111\n",
      "97\n",
      "97\n",
      "[0, [['aa', '1111'], ['ab', '2222']], 0, 0, 0, 0, 0, 0]\n",
      "1111\n",
      "2222\n",
      "[0, [['ab', '2222']], 0, 0, 0, 0, 0, 0]\n",
      "False\n"
     ]
    }
   ],
   "source": [
    "class Chaining:\n",
    "    def __init__(self, table_size):\n",
    "        self.size = table_size\n",
    "        self.hash_table = [0 for a in range(self.size)]\n",
    "\n",
    "    def getKey(self, data):\n",
    "        self.key = ord(data[0])\n",
    "        return self.key\n",
    "    \n",
    "    def hashFunction(self, key):\n",
    "        return key % self.size\n",
    "    \n",
    "    def getAddress(self, key):\n",
    "        myKey = self.getKey(key)\n",
    "        hash_address = self.hashFunction(myKey)\n",
    "        return hash_address\n",
    "    \n",
    "    def save(self, key, value):\n",
    "        hash_address = self.getAddress(key)\n",
    "\n",
    "        if self.hash_table[hash_address] != 0: # 해시 충돌 시\n",
    "            for a in range(len(self.hash_table[hash_address])): # 빈 bucket 탐색\n",
    "                if self.hash_table[hash_address][a][0] == key:\n",
    "                    self.hash_table[hash_address][a][1] = value\n",
    "                    return\n",
    "            self.hash_table[hash_address].append([key, value])\n",
    "        else:\n",
    "            self.hash_table[hash_address] = [[key, value]]\n",
    "\n",
    "    def read(self, key):\n",
    "        hash_address = self.getAddress(key)\n",
    "\n",
    "        if self.hash_table[hash_address] != 0: # 해시 충돌 시\n",
    "            for a in range(len(self.hash_table[hash_address])):\n",
    "                if self.hash_table[hash_address][a][0] == key: # 일치하는 key 값 찾음 \n",
    "                    return self.hash_table[hash_address][a][1] # 일치하는 value 반환\n",
    "            return False\n",
    "        else:\n",
    "            return False\n",
    "        \n",
    "    def delete(self, key):\n",
    "        hash_address = self.getAddress(key)\n",
    "\n",
    "        if self.hash_table[hash_address] != 0:\n",
    "            for a in range(len(self.hash_table[hash_address])):\n",
    "                if self.hash_table[hash_address][a][0] == key:\n",
    "                    if len(self.hash_table[hash_address]) == 1:\n",
    "                        self.hash_table[hash_address] = 0\n",
    "                    else:\n",
    "                        del self.hash_table[hash_address][a]\n",
    "                    return\n",
    "            return False\n",
    "        else:\n",
    "            return False\n",
    "        \n",
    "if __name__ == '__main__':\n",
    "    h_table = Chaining(8)\n",
    "\n",
    "    h_table.save('aa', '1111')\n",
    "    print(h_table.read('aa')) # 1111\n",
    "\n",
    "    data1 = 'aa'\n",
    "    data2 = 'ab'\n",
    "\n",
    "    print(ord(data1[0]))   # 97\n",
    "    print(ord(data2[0]))   # 97  같은 hash 값을 가짐 -> 해시 충돌\n",
    "\n",
    "    h_table.save('ab', '2222')\n",
    "    print(h_table.hash_table)  # [0, [['aa', '1111'], ['ab', '2222']], 0, 0, 0, 0, 0, 0]\n",
    "\n",
    "    print(h_table.read('aa'))  # 1111\n",
    "    print(h_table.read('ab'))  # 2222\n",
    "\n",
    "    h_table.delete('aa')\n",
    "    print(h_table.hash_table)  # [0, [['ab', '2222']], 0, 0, 0, 0, 0, 0]\n",
    "\n",
    "    print(h_table.delete('Data')) # False"
   ]
  },
  {
   "cell_type": "markdown",
   "metadata": {},
   "source": []
  },
  {
   "attachments": {},
   "cell_type": "markdown",
   "metadata": {},
   "source": [
    "### OpenAddressing"
   ]
  },
  {
   "cell_type": "code",
   "execution_count": 4,
   "metadata": {},
   "outputs": [
    {
     "name": "stdout",
     "output_type": "stream",
     "text": [
      "97 97\n",
      "[0, ['aa', '1111'], ['ab', '2222'], 0, 0, 0, 0, 0]\n",
      "2222\n",
      "[0, 0, ['ab', '2222'], 0, 0, 0, 0, 0]\n"
     ]
    }
   ],
   "source": [
    "class OpenAddressing:\n",
    "    def __init__(self, table_size):\n",
    "        self.size = table_size\n",
    "        self.hash_table = [0 for a in range(self.size)]\n",
    "        \n",
    "    def getKey(self, data):\n",
    "        self.key = ord(data[0])\n",
    "        return self.key\n",
    "    \n",
    "    def hashFunction(self, key):\n",
    "        return key % self.size\n",
    "\n",
    "    def getAddress(self, key):\n",
    "        myKey = self.getKey(key)\n",
    "        hash_address = self.hashFunction(myKey)\n",
    "        return hash_address\n",
    "    \n",
    "    def save(self, key, value):\n",
    "        hash_address = self.getAddress(key)\n",
    "        \n",
    "        if self.hash_table[hash_address] != 0:    # hash 의 값이 이미 존재할때 (해시충돌)\n",
    "            for a in range(hash_address, len(self.hash_table)):\n",
    "                if self.hash_table[a] == 0:\n",
    "                    self.hash_table[a] = [key, value]\n",
    "                    return\n",
    "                elif self.hash_table[a][0] == key:\n",
    "                    self.hash_table[a] = [key, value]\n",
    "                    return\n",
    "            return None\n",
    "        else:    # hash 가 비었을때\n",
    "            self.hash_table[hash_address] = [key, value]\n",
    "            \n",
    "    def read(self, key):\n",
    "        hash_address = self.getAddress(key)\n",
    "        \n",
    "        for a in range(hash_address, len(self.hash_table)):\n",
    "            if self.hash_table[a][0] == key:\n",
    "                return self.hash_table[a][1]\n",
    "        return None\n",
    "    \n",
    "    def delete(self, key):\n",
    "        hash_address = self.getAddress(key)\n",
    "        \n",
    "        for a in range(hash_address, len(self.hash_table)):\n",
    "            if self.hash_table[a] == 0:\n",
    "                continue\n",
    "            if self.hash_table[a][0] == key:\n",
    "                self.hash_table[a] = 0\n",
    "                return\n",
    "        return False\n",
    "\n",
    "\n",
    "if __name__=='__main__':\n",
    "    \n",
    "    h_table = OpenAddressing(8)\n",
    "\n",
    "    data1 = 'aa'\n",
    "    data2 = 'ab'\n",
    "    print(ord(data1[0]), ord(data2[0]))    ## 97 97  -> 해시 충돌\n",
    "\n",
    "    h_table.save('aa', '1111') \n",
    "    h_table.save('ab', '2222')\n",
    "\n",
    "    print(h_table.hash_table)  # [0, ['aa', '1111'], ['ab', '2222'], 0, 0, 0, 0, 0]\n",
    "\n",
    "    print(h_table.read('ab'))  # 2222\n",
    "\n",
    "    h_table.delete('aa') \n",
    "    print(h_table.hash_table)  # [0, 0, ['ab', '2222'], 0, 0, 0, 0, 0]"
   ]
  },
  {
   "cell_type": "code",
   "execution_count": null,
   "metadata": {},
   "outputs": [],
   "source": []
  }
 ],
 "metadata": {
  "kernelspec": {
   "display_name": "Python 3",
   "language": "python",
   "name": "python3"
  },
  "language_info": {
   "codemirror_mode": {
    "name": "ipython",
    "version": 3
   },
   "file_extension": ".py",
   "mimetype": "text/x-python",
   "name": "python",
   "nbconvert_exporter": "python",
   "pygments_lexer": "ipython3",
   "version": "3.11.0"
  },
  "orig_nbformat": 4,
  "vscode": {
   "interpreter": {
    "hash": "5c7b89af1651d0b8571dde13640ecdccf7d5a6204171d6ab33e7c296e100e08a"
   }
  }
 },
 "nbformat": 4,
 "nbformat_minor": 2
}
