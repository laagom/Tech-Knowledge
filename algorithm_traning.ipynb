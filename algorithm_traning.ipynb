{
 "cells": [
  {
   "attachments": {},
   "cell_type": "markdown",
   "metadata": {},
   "source": [
    "### 거품 정렬 (BubbleSort)"
   ]
  },
  {
   "cell_type": "code",
   "execution_count": 40,
   "metadata": {},
   "outputs": [
    {
     "name": "stdout",
     "output_type": "stream",
     "text": [
      "[1, 2, 3, 4, 5]\n"
     ]
    }
   ],
   "source": [
    "bubble_arry = [3, 2, 4, 5, 1]\n",
    "length = len(bubble_arry)-1\n",
    "\n",
    "for i in range(length):\n",
    "    for j in range(length-i): \n",
    "\n",
    "        if bubble_arry[j] > bubble_arry[j+1]:\n",
    "            bubble_arry[j], bubble_arry[j+1] = bubble_arry[j+1], bubble_arry[j]\n",
    "\n",
    "print(bubble_arry)\n"
   ]
  },
  {
   "cell_type": "code",
   "execution_count": 52,
   "metadata": {},
   "outputs": [
    {
     "name": "stdout",
     "output_type": "stream",
     "text": [
      "9.540999599266797e-06\n",
      "[1, 2, 3, 4, 5, 6, 7, 8, 9, 10]\n"
     ]
    }
   ],
   "source": [
    "import timeit\n",
    "\n",
    "def time_decorator(func):\n",
    "\n",
    "    def exec_func(*args, **kwargs):\n",
    "        start_time = timeit.default_timer()\n",
    "        result = func(*args, **kwargs)\n",
    "        print(timeit.default_timer() - start_time)\n",
    "        return result\n",
    "    return exec_func\n",
    "\n",
    "@time_decorator    \n",
    "def bubbleSort(array):\n",
    "    length = len(array)-1\n",
    "\n",
    "    for i in range(length):\n",
    "        for j in range(length-i):\n",
    "            if array[j] > array[j+1]:\n",
    "                array[j],array[j+1] = array[j+1], array[j]\n",
    "\n",
    "    return array\n",
    "\n",
    "bubble_arry = [10, 1, 9, 2, 8, 3, 7, 4, 6, 5]\n",
    "\n",
    "print(bubbleSort(bubble_arry))"
   ]
  },
  {
   "cell_type": "code",
   "execution_count": 51,
   "metadata": {},
   "outputs": [
    {
     "name": "stdout",
     "output_type": "stream",
     "text": [
      "7.375005225185305e-06\n",
      "[1, 2, 3, 4, 5, 6, 7, 8, 9, 10]\n"
     ]
    }
   ],
   "source": [
    "import timeit\n",
    "\n",
    "def time_decorator(func):\n",
    "\n",
    "    def exec_func(*args, **kwargs):\n",
    "        start_time = timeit.default_timer()\n",
    "        result = func(*args, **kwargs)\n",
    "        print(timeit.default_timer() - start_time)\n",
    "        return result\n",
    "    return exec_func\n",
    "\n",
    "@time_decorator\n",
    "def bubbleSort(array):\n",
    "    length = len(array)-1\n",
    "\n",
    "    for i in range(length):\n",
    "        switch = False\n",
    "        for j in range(length-i):\n",
    "            if array[j] > array[j+1]:\n",
    "                array[j], array[j+1] = array[j+1], array[j]\n",
    "                switch = True\n",
    "        if not switch:\n",
    "            break\n",
    "\n",
    "    return array\n",
    "\n",
    "bubble_arry = [10, 1, 9, 2, 8, 3, 7, 4, 6, 5]\n",
    "\n",
    "print(bubbleSort(bubble_arry))"
   ]
  },
  {
   "attachments": {},
   "cell_type": "markdown",
   "metadata": {},
   "source": [
    "### 선택 정렬 (SelectionSort)"
   ]
  },
  {
   "cell_type": "code",
   "execution_count": 1,
   "metadata": {},
   "outputs": [
    {
     "name": "stdout",
     "output_type": "stream",
     "text": [
      "[150, 160, 170, 180, 190]\n"
     ]
    }
   ],
   "source": [
    "def selection_sort(array):\n",
    "    for i in range(len(array)-1):\n",
    "        min_idx = i\n",
    "\n",
    "        for j in range(i+1, len(array)):\n",
    "            if array[j] < array[min_idx]:\n",
    "                min_idx = j\n",
    "                \n",
    "        array[i], array[min_idx] = array[min_idx], array[i]\n",
    "\n",
    "    return array\n",
    "\n",
    "height = [190, 170, 150, 160, 180]\n",
    "print(selection_sort(height))"
   ]
  },
  {
   "cell_type": "code",
   "execution_count": 5,
   "metadata": {},
   "outputs": [
    {
     "name": "stdout",
     "output_type": "stream",
     "text": [
      "6.4999330788850784e-06\n",
      "[1, 2, 3, 4, 5, 6, 7, 8, 9, 10]\n"
     ]
    }
   ],
   "source": [
    "import timeit\n",
    "\n",
    "def time_decorator(func):\n",
    "\n",
    "    def exec_func(*args, **kwargs):\n",
    "        start_time = timeit.default_timer()\n",
    "        result = func(*args, **kwargs)\n",
    "        print(timeit.default_timer() - start_time)\n",
    "        return result\n",
    "    return exec_func\n",
    "\n",
    "@time_decorator\n",
    "def selection_sort(array):\n",
    "    for i in range(len(array)-1):\n",
    "        min_idx = i\n",
    "\n",
    "        for j in range(i+1, len(array)):\n",
    "            if array[j] < array[min_idx]:\n",
    "                min_idx = j\n",
    "                \n",
    "        array[i], array[min_idx] = array[min_idx], array[i]\n",
    "\n",
    "    return array\n",
    "\n",
    "select_arry = [10, 1, 9, 2, 8, 3, 7, 4, 6, 5]\n",
    "print(selection_sort(select_arry))"
   ]
  }
 ],
 "metadata": {
  "kernelspec": {
   "display_name": "Python 3",
   "language": "python",
   "name": "python3"
  },
  "language_info": {
   "codemirror_mode": {
    "name": "ipython",
    "version": 3
   },
   "file_extension": ".py",
   "mimetype": "text/x-python",
   "name": "python",
   "nbconvert_exporter": "python",
   "pygments_lexer": "ipython3",
   "version": "3.11.0"
  },
  "orig_nbformat": 4,
  "vscode": {
   "interpreter": {
    "hash": "5c7b89af1651d0b8571dde13640ecdccf7d5a6204171d6ab33e7c296e100e08a"
   }
  }
 },
 "nbformat": 4,
 "nbformat_minor": 2
}
