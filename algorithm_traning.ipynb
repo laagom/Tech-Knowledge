{
 "cells": [
  {
   "attachments": {},
   "cell_type": "markdown",
   "metadata": {},
   "source": [
    "### 거품 정렬 (BubbleSort)"
   ]
  },
  {
   "cell_type": "code",
   "execution_count": 40,
   "metadata": {},
   "outputs": [
    {
     "name": "stdout",
     "output_type": "stream",
     "text": [
      "[1, 2, 3, 4, 5]\n"
     ]
    }
   ],
   "source": [
    "bubble_arry = [3, 2, 4, 5, 1]\n",
    "length = len(bubble_arry)-1\n",
    "\n",
    "for i in range(length):\n",
    "    for j in range(length-i): \n",
    "\n",
    "        if bubble_arry[j] > bubble_arry[j+1]:\n",
    "            bubble_arry[j], bubble_arry[j+1] = bubble_arry[j+1], bubble_arry[j]\n",
    "\n",
    "print(bubble_arry)\n"
   ]
  },
  {
   "cell_type": "code",
   "execution_count": 52,
   "metadata": {},
   "outputs": [
    {
     "name": "stdout",
     "output_type": "stream",
     "text": [
      "9.540999599266797e-06\n",
      "[1, 2, 3, 4, 5, 6, 7, 8, 9, 10]\n"
     ]
    }
   ],
   "source": [
    "import timeit\n",
    "\n",
    "def time_decorator(func):\n",
    "\n",
    "    def exec_func(*args, **kwargs):\n",
    "        start_time = timeit.default_timer()\n",
    "        result = func(*args, **kwargs)\n",
    "        print(timeit.default_timer() - start_time)\n",
    "        return result\n",
    "    return exec_func\n",
    "\n",
    "@time_decorator    \n",
    "def bubbleSort(array):\n",
    "    length = len(array)-1\n",
    "\n",
    "    for i in range(length):\n",
    "        for j in range(length-i):\n",
    "            if array[j] > array[j+1]:\n",
    "                array[j],array[j+1] = array[j+1], array[j]\n",
    "\n",
    "    return array\n",
    "\n",
    "bubble_arry = [10, 1, 9, 2, 8, 3, 7, 4, 6, 5]\n",
    "\n",
    "print(bubbleSort(bubble_arry))"
   ]
  },
  {
   "cell_type": "code",
   "execution_count": 51,
   "metadata": {},
   "outputs": [
    {
     "name": "stdout",
     "output_type": "stream",
     "text": [
      "7.375005225185305e-06\n",
      "[1, 2, 3, 4, 5, 6, 7, 8, 9, 10]\n"
     ]
    }
   ],
   "source": [
    "import timeit\n",
    "\n",
    "def time_decorator(func):\n",
    "\n",
    "    def exec_func(*args, **kwargs):\n",
    "        start_time = timeit.default_timer()\n",
    "        result = func(*args, **kwargs)\n",
    "        print(timeit.default_timer() - start_time)\n",
    "        return result\n",
    "    return exec_func\n",
    "\n",
    "@time_decorator\n",
    "def bubbleSort(array):\n",
    "    length = len(array)-1\n",
    "\n",
    "    for i in range(length):\n",
    "        switch = False\n",
    "        for j in range(length-i):\n",
    "            if array[j] > array[j+1]:\n",
    "                array[j], array[j+1] = array[j+1], array[j]\n",
    "                switch = True\n",
    "        if not switch:\n",
    "            break\n",
    "\n",
    "    return array\n",
    "\n",
    "bubble_arry = [10, 1, 9, 2, 8, 3, 7, 4, 6, 5]\n",
    "\n",
    "print(bubbleSort(bubble_arry))"
   ]
  },
  {
   "attachments": {},
   "cell_type": "markdown",
   "metadata": {},
   "source": [
    "### 추가 학습"
   ]
  },
  {
   "cell_type": "code",
   "execution_count": 47,
   "metadata": {},
   "outputs": [
    {
     "name": "stdout",
     "output_type": "stream",
     "text": [
      "[1, 2, 3, 4, 5]\n"
     ]
    }
   ],
   "source": [
    "bubble_arry = [3, 5, 1, 2, 4]\n",
    "\n",
    "# j loop를 돌때 j에 대한 범위를 i만큼 제외하며 loop를 돌리는 코드\n",
    "def bubble_sort1(arry):\n",
    "    length = len(arry)-1\n",
    "\n",
    "    for i in range(length):\n",
    "        for j in range(length-i):\n",
    "            if arry[j] > arry[j+1]:\n",
    "                arry[j], arry[j+1] = arry[j+1], arry[j]\n",
    "    return arry\n",
    "\n",
    "# i loop를 돌리때 i의 범위를 줄어들게 설정해논 후 j의 범위를 i길이 만큼 돌리는 코드\n",
    "def bubble_sort2(arry):\n",
    "    length = len(arry)-1\n",
    "\n",
    "    for i in range(length, 0, -1):\n",
    "        for j in range(i):\n",
    "            if arry[j] > arry[j+1]:\n",
    "                arry[j], arry[j+1] = arry[j+1], arry[j]\n",
    "    return arry\n",
    "\n",
    "print(bubble_sort2(bubble_arry))"
   ]
  },
  {
   "attachments": {},
   "cell_type": "markdown",
   "metadata": {},
   "source": [
    "### 선택 정렬 (SelectionSort)"
   ]
  },
  {
   "cell_type": "code",
   "execution_count": 1,
   "metadata": {},
   "outputs": [
    {
     "name": "stdout",
     "output_type": "stream",
     "text": [
      "[150, 160, 170, 180, 190]\n"
     ]
    }
   ],
   "source": [
    "def selection_sort(array):\n",
    "    for i in range(len(array)-1):\n",
    "        min_idx = i\n",
    "\n",
    "        for j in range(i+1, len(array)):\n",
    "            if array[j] < array[min_idx]:\n",
    "                min_idx = j\n",
    "                \n",
    "        array[i], array[min_idx] = array[min_idx], array[i]\n",
    "\n",
    "    return array\n",
    "\n",
    "height = [190, 170, 150, 160, 180]\n",
    "print(selection_sort(height))"
   ]
  },
  {
   "cell_type": "code",
   "execution_count": 5,
   "metadata": {},
   "outputs": [
    {
     "name": "stdout",
     "output_type": "stream",
     "text": [
      "6.4999330788850784e-06\n",
      "[1, 2, 3, 4, 5, 6, 7, 8, 9, 10]\n"
     ]
    }
   ],
   "source": [
    "import timeit\n",
    "\n",
    "def time_decorator(func):\n",
    "\n",
    "    def exec_func(*args, **kwargs):\n",
    "        start_time = timeit.default_timer()\n",
    "        result = func(*args, **kwargs)\n",
    "        print(timeit.default_timer() - start_time)\n",
    "        return result\n",
    "    return exec_func\n",
    "\n",
    "@time_decorator\n",
    "def selection_sort(array):\n",
    "    for i in range(len(array)-1):\n",
    "        min_idx = i\n",
    "\n",
    "        for j in range(i+1, len(array)):\n",
    "            if array[j] < array[min_idx]:\n",
    "                min_idx = j\n",
    "                \n",
    "        array[i], array[min_idx] = array[min_idx], array[i]\n",
    "\n",
    "    return array\n",
    "\n",
    "select_arry = [10, 1, 9, 2, 8, 3, 7, 4, 6, 5]\n",
    "print(selection_sort(select_arry))"
   ]
  },
  {
   "attachments": {},
   "cell_type": "markdown",
   "metadata": {},
   "source": [
    "### 추가 학습"
   ]
  },
  {
   "cell_type": "code",
   "execution_count": 57,
   "metadata": {},
   "outputs": [
    {
     "name": "stdout",
     "output_type": "stream",
     "text": [
      "1 5\n",
      "2 3\n",
      "3 1\n",
      "4 2\n",
      "-----------\n",
      "2 3\n",
      "3 4\n",
      "4 2\n",
      "-----------\n",
      "3 4\n",
      "4 5\n",
      "-----------\n",
      "4 5\n",
      "-----------\n",
      "[1, 2, 3, 4, 5]\n"
     ]
    }
   ],
   "source": [
    "selection_array = [4, 5, 3, 1, 2]\n",
    "length = len(selection_array)-1\n",
    "\n",
    "for i in range(length):\n",
    "    min_idx = i\n",
    "    for j in range(i+1, length+1):\n",
    "        print(j, selection_array[j])\n",
    "        if selection_array[j] < selection_array[min_idx]:\n",
    "            min_idx = j\n",
    "    selection_array[i], selection_array[min_idx] = selection_array[min_idx], selection_array[i]\n",
    "    print('-----------')\n",
    "print(selection_array)"
   ]
  },
  {
   "attachments": {},
   "cell_type": "markdown",
   "metadata": {},
   "source": [
    "### 해시(Hash)"
   ]
  },
  {
   "cell_type": "code",
   "execution_count": 2,
   "metadata": {},
   "outputs": [
    {
     "name": "stdout",
     "output_type": "stream",
     "text": [
      "{}\n",
      "{}\n"
     ]
    }
   ],
   "source": [
    "# 딕셔너리 생성하기\n",
    "init_dict1 = {}\n",
    "init_dict2 = dict()\n",
    "\n",
    "print(init_dict1)\n",
    "print(init_dict2)"
   ]
  },
  {
   "cell_type": "code",
   "execution_count": 3,
   "metadata": {},
   "outputs": [
    {
     "data": {
      "text/plain": [
       "{'name': '조OO', 'age': 32, 'marital': False, 'height': 183}"
      ]
     },
     "execution_count": 3,
     "metadata": {},
     "output_type": "execute_result"
    }
   ],
   "source": [
    "# Key-Value쌍을 가지는 특정 dictionary 선언\n",
    "Lagom = {\n",
    "    'name' : '조OO',\n",
    "    'age' : 32,\n",
    "    'marital' : False,\n",
    "    'height' : 183,\n",
    "}\n",
    "\n",
    "Lagom\n",
    "'''\n",
    "{'name': '조OO', 'age': 32, 'marital': False, 'height': 183}\n",
    "'''"
   ]
  },
  {
   "cell_type": "code",
   "execution_count": 6,
   "metadata": {},
   "outputs": [
    {
     "data": {
      "text/plain": [
       "{'name': '조OO',\n",
       " 'age': 32,\n",
       " 'marital': False,\n",
       " 'height': 183,\n",
       " 'Friend': {'Jinho', 'MinWook'}}"
      ]
     },
     "execution_count": 6,
     "metadata": {},
     "output_type": "execute_result"
    }
   ],
   "source": [
    "# dictionary를 value로 가지는 dictionary 선언\n",
    "Lagom = {\n",
    "    'name' : '조OO',\n",
    "    'age' : 32,\n",
    "    'marital' : False,\n",
    "    'height' : 183,\n",
    "    'Friend' : {\n",
    "        'MinWook',\n",
    "        'Jinho'\n",
    "    }\n",
    "}\n",
    "\n",
    "Lagom\n",
    "'''\n",
    "{'name': '조OO',\n",
    " 'age': 32,\n",
    " 'marital': False,\n",
    " 'height': 183,\n",
    " 'Friend': {'Jinho', 'MinWook'}}\n",
    "'''\n"
   ]
  },
  {
   "cell_type": "code",
   "execution_count": 7,
   "metadata": {},
   "outputs": [
    {
     "data": {
      "text/plain": [
       "'조OO'"
      ]
     },
     "execution_count": 7,
     "metadata": {},
     "output_type": "execute_result"
    }
   ],
   "source": [
    "# [] 기호로 원소 가져오기\n",
    "Lagom = {\n",
    "    'name' : '조OO',\n",
    "    'age' : 32,\n",
    "    'marital' : False,\n",
    "    'height' : 183,\n",
    "    'Friend' : {\n",
    "        'MinWook',\n",
    "        'Jinho'\n",
    "    }\n",
    "}\n",
    "Lagom['name']"
   ]
  },
  {
   "cell_type": "code",
   "execution_count": 10,
   "metadata": {},
   "outputs": [
    {
     "data": {
      "text/plain": [
       "80"
      ]
     },
     "execution_count": 10,
     "metadata": {},
     "output_type": "execute_result"
    }
   ],
   "source": [
    "# get 메소드로 원소 가져오기\n",
    "# 딕셔너리에 해당 key가 없는 경우 error를 발생하는 대신 특정 값을 가져오게 하기\n",
    "Lagom = {\n",
    "    'name' : '조OO',\n",
    "    'age' : 32,\n",
    "    'marital' : False,\n",
    "    'height' : 183,\n",
    "    'Friend' : {\n",
    "        'MinWook',\n",
    "        'Jinho'\n",
    "    }\n",
    "}\n",
    "\n",
    "Lagom.get('weight', 80)"
   ]
  },
  {
   "cell_type": "code",
   "execution_count": 11,
   "metadata": {},
   "outputs": [
    {
     "data": {
      "text/plain": [
       "{'name': '조OO',\n",
       " 'age': 32,\n",
       " 'marital': False,\n",
       " 'height': 183,\n",
       " 'Friend': {'Jinho', 'MinWook'},\n",
       " 'weight': 80}"
      ]
     },
     "execution_count": 11,
     "metadata": {},
     "output_type": "execute_result"
    }
   ],
   "source": [
    "# 값 넣기\n",
    "Lagom = {\n",
    "    'name' : '조OO',\n",
    "    'age' : 32,\n",
    "    'marital' : False,\n",
    "    'height' : 183,\n",
    "    'Friend' : {\n",
    "        'MinWook',\n",
    "        'Jinho'\n",
    "    }\n",
    "}\n",
    "Lagom['weight'] = 80\n",
    "Lagom"
   ]
  },
  {
   "cell_type": "code",
   "execution_count": 12,
   "metadata": {},
   "outputs": [
    {
     "data": {
      "text/plain": [
       "{'name': '박OO',\n",
       " 'age': 32,\n",
       " 'marital': False,\n",
       " 'height': 183,\n",
       " 'Friend': {'Jinho', 'MinWook'}}"
      ]
     },
     "execution_count": 12,
     "metadata": {},
     "output_type": "execute_result"
    }
   ],
   "source": [
    "# 값 수정\n",
    "Lagom = {\n",
    "    'name' : '조OO',\n",
    "    'age' : 32,\n",
    "    'marital' : False,\n",
    "    'height' : 183,\n",
    "    'Friend' : {\n",
    "        'MinWook',\n",
    "        'Jinho'\n",
    "    }\n",
    "}\n",
    "Lagom['name'] = '박OO'\n",
    "Lagom\n"
   ]
  },
  {
   "cell_type": "code",
   "execution_count": 13,
   "metadata": {},
   "outputs": [
    {
     "data": {
      "text/plain": [
       "{'age': 32, 'marital': False, 'height': 183, 'Friend': {'Jinho', 'MinWook'}}"
      ]
     },
     "execution_count": 13,
     "metadata": {},
     "output_type": "execute_result"
    }
   ],
   "source": [
    "# del 이용하기 - 키가 있는 경우\n",
    "Lagom = {\n",
    "    'name' : '조OO',\n",
    "    'age' : 32,\n",
    "    'marital' : False,\n",
    "    'height' : 183,\n",
    "    'Friend' : {\n",
    "        'MinWook',\n",
    "        'Jinho'\n",
    "    }\n",
    "}\n",
    "del Lagom['name']\n",
    "\n",
    "Lagom"
   ]
  },
  {
   "cell_type": "code",
   "execution_count": 14,
   "metadata": {},
   "outputs": [
    {
     "ename": "KeyError",
     "evalue": "'weight'",
     "output_type": "error",
     "traceback": [
      "\u001b[0;31m---------------------------------------------------------------------------\u001b[0m",
      "\u001b[0;31mKeyError\u001b[0m                                  Traceback (most recent call last)",
      "Cell \u001b[0;32mIn [14], line 11\u001b[0m\n\u001b[1;32m      1\u001b[0m Lagom \u001b[39m=\u001b[39m {\n\u001b[1;32m      2\u001b[0m     \u001b[39m'\u001b[39m\u001b[39mname\u001b[39m\u001b[39m'\u001b[39m : \u001b[39m'\u001b[39m\u001b[39m조OO\u001b[39m\u001b[39m'\u001b[39m,\n\u001b[1;32m      3\u001b[0m     \u001b[39m'\u001b[39m\u001b[39mage\u001b[39m\u001b[39m'\u001b[39m : \u001b[39m32\u001b[39m,\n\u001b[0;32m   (...)\u001b[0m\n\u001b[1;32m      9\u001b[0m     }\n\u001b[1;32m     10\u001b[0m }\n\u001b[0;32m---> 11\u001b[0m \u001b[39mdel\u001b[39;00m Lagom[\u001b[39m'\u001b[39;49m\u001b[39mweight\u001b[39;49m\u001b[39m'\u001b[39;49m]\n",
      "\u001b[0;31mKeyError\u001b[0m: 'weight'"
     ]
    }
   ],
   "source": [
    "Lagom = {\n",
    "    'name' : '조OO',\n",
    "    'age' : 32,\n",
    "    'marital' : False,\n",
    "    'height' : 183,\n",
    "    'Friend' : {\n",
    "        'MinWook',\n",
    "        'Jinho'\n",
    "    }\n",
    "}\n",
    "del Lagom['weight']"
   ]
  },
  {
   "cell_type": "code",
   "execution_count": 17,
   "metadata": {},
   "outputs": [
    {
     "data": {
      "text/plain": [
       "32"
      ]
     },
     "execution_count": 17,
     "metadata": {},
     "output_type": "execute_result"
    }
   ],
   "source": [
    "# pop 이용하기 - 키가 있는 경우 대응하는 value 리턴\n",
    "Lagom = {\n",
    "    'name' : '조OO',\n",
    "    'age' : 32,\n",
    "    'marital' : False,\n",
    "    'height' : 183,\n",
    "    'Friend' : {\n",
    "        'MinWook',\n",
    "        'Jinho'\n",
    "    }\n",
    "}\n",
    "Lagom.pop('age', 18)"
   ]
  },
  {
   "cell_type": "code",
   "execution_count": 18,
   "metadata": {},
   "outputs": [
    {
     "data": {
      "text/plain": [
       "18"
      ]
     },
     "execution_count": 18,
     "metadata": {},
     "output_type": "execute_result"
    }
   ],
   "source": [
    "# pop 이용하기 - 키가 없는 경우 대응하는 default 리턴\n",
    "Lagom = {\n",
    "    'name' : '조OO',\n",
    "    'age' : 32,\n",
    "    'marital' : False,\n",
    "    'height' : 183,\n",
    "    'Friend' : {\n",
    "        'MinWook',\n",
    "        'Jinho'\n",
    "    }\n",
    "}\n",
    "Lagom.pop('weight', 18)"
   ]
  },
  {
   "cell_type": "code",
   "execution_count": 19,
   "metadata": {},
   "outputs": [
    {
     "name": "stdout",
     "output_type": "stream",
     "text": [
      "name\n",
      "age\n",
      "marital\n",
      "height\n",
      "Friend\n"
     ]
    }
   ],
   "source": [
    "Lagom = {\n",
    "    'name' : '조OO',\n",
    "    'age' : 32,\n",
    "    'marital' : False,\n",
    "    'height' : 183,\n",
    "    'Friend' : {\n",
    "        'MinWook',\n",
    "        'Jinho'\n",
    "    }\n",
    "}\n",
    "for key in Lagom:\n",
    "    print(key)"
   ]
  },
  {
   "cell_type": "code",
   "execution_count": 22,
   "metadata": {},
   "outputs": [
    {
     "name": "stdout",
     "output_type": "stream",
     "text": [
      "name 조OO\n",
      "age 32\n",
      "marital False\n",
      "height 183\n",
      "Friend {'Jinho', 'MinWook'}\n"
     ]
    }
   ],
   "source": [
    "Lagom = {\n",
    "    'name' : '조OO',\n",
    "    'age' : 32,\n",
    "    'marital' : False,\n",
    "    'height' : 183,\n",
    "    'Friend' : {\n",
    "        'MinWook',\n",
    "        'Jinho'\n",
    "    }\n",
    "}\n",
    "for key, value in Lagom.items():\n",
    "    print(key, value)"
   ]
  }
 ],
 "metadata": {
  "kernelspec": {
   "display_name": "Python 3",
   "language": "python",
   "name": "python3"
  },
  "language_info": {
   "codemirror_mode": {
    "name": "ipython",
    "version": 3
   },
   "file_extension": ".py",
   "mimetype": "text/x-python",
   "name": "python",
   "nbconvert_exporter": "python",
   "pygments_lexer": "ipython3",
   "version": "3.11.0"
  },
  "orig_nbformat": 4,
  "vscode": {
   "interpreter": {
    "hash": "5c7b89af1651d0b8571dde13640ecdccf7d5a6204171d6ab33e7c296e100e08a"
   }
  }
 },
 "nbformat": 4,
 "nbformat_minor": 2
}
